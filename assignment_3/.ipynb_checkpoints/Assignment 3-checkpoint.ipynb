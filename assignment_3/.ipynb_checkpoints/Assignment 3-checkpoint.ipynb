{
 "cells": [
  {
   "cell_type": "code",
   "execution_count": null,
   "metadata": {},
   "outputs": [],
   "source": [
    "#이미지에서 숫자 판별\n",
    "import re\n",
    "def read_img(img_name):\n",
    "    with open(img_name, \"rb\") as f:\n",
    "        data = f.read()\n",
    "    head = data[-512:]\n",
    "    det = head[239:255]\n",
    "    rslt = ''\n",
    "    for i in range(len(det)):\n",
    "        rslt += str(det[i])\n",
    "    result = re.findall('255[0]+[255]+[0]+255', rslt)\n",
    "    if len(result) == 1:\n",
    "        return 0\n",
    "    else:\n",
    "        return 1"
   ]
  },
  {
   "cell_type": "code",
   "execution_count": null,
   "metadata": {},
   "outputs": [],
   "source": [
    "print(read_img('t1.bmp'))\n",
    "print(read_img('t2.bmp'))\n",
    "print(read_img('t3.bmp'))\n",
    "print(read_img('t4.bmp'))\n",
    "print(read_img('t5.bmp'))"
   ]
  },
  {
   "cell_type": "code",
   "execution_count": 5,
   "metadata": {},
   "outputs": [],
   "source": [
    "#야구 게임 클래스\n",
    "import random\n",
    "from collections import OrderedDict\n",
    "def ordered(lst):\n",
    "    d = OrderedDict()\n",
    "    for i in lst:\n",
    "        d[i] = True\n",
    "    return list(d.keys())\n",
    "\n",
    "class BaseballGame:\n",
    "    def __init__(self, seed_num = None):\n",
    "        random.seed(seed_num)\n",
    "        lst = []\n",
    "        ran_num = random.randrange(0, 10)\n",
    "        for i in range(3):\n",
    "            while ran_num in lst:\n",
    "                ran_num = random.randrange(0, 10)\n",
    "            lst.append(ran_num)\n",
    "        self.num = lst\n",
    "    \n",
    "    def input_check():\n",
    "        var = input('What is your guess: ')\n",
    "        var_lst = var.split(',')\n",
    "        num_lst = []\n",
    "        arr = []\n",
    "        for i in range(10):\n",
    "            arr.append(str(i))\n",
    "        for char in var_lst:\n",
    "            char = char.strip()\n",
    "            if char in arr:\n",
    "                num_lst.append(int(char))\n",
    "            else: #char가 숫자가 아닌 경우\n",
    "                return None\n",
    "        num_lst = ordered(num_lst)\n",
    "        if len(num_lst) != 3: #제시된 숫자가 중복되거나, 3개가 아닌 경우\n",
    "            return None\n",
    "        return num_lst\n",
    "\n",
    "    def check_count(self, usr):\n",
    "        self.usr = usr\n",
    "        strike = 0\n",
    "        ball = 0\n",
    "        for x in range(len(self.num)):\n",
    "            if self.usr[x] == self.num[x]:\n",
    "                strike += 1\n",
    "            else:\n",
    "                if self.usr[x] in self.num:\n",
    "                    ball += 1\n",
    "        return f'{strike}S {ball}B'\n",
    "    \n",
    "    def play (self):\n",
    "        while True:\n",
    "            usr = BaseballGame.input_check()\n",
    "            if not usr:\n",
    "                print(\"Your input is not valid.\")\n",
    "                continue\n",
    "            else :\n",
    "                result = self.check_count(usr)\n",
    "            if result == \"3S 0B\":\n",
    "                print(\"You got it!!\")\n",
    "                break\n",
    "            else:\n",
    "                print(result)"
   ]
  },
  {
   "cell_type": "code",
   "execution_count": 8,
   "metadata": {},
   "outputs": [
    {
     "name": "stdout",
     "output_type": "stream",
     "text": [
      "What is your guess: \n",
      "Your input is not valid.\n",
      "What is your guess: 2,9,1\n",
      "You got it!!\n"
     ]
    }
   ],
   "source": [
    "if __name__ == \"__main__\":\n",
    "    new_game1 = BaseballGame(1)\n",
    "    new_game1.play()"
   ]
  },
  {
   "cell_type": "code",
   "execution_count": 9,
   "metadata": {},
   "outputs": [
    {
     "name": "stdout",
     "output_type": "stream",
     "text": [
      "What is your guess: 0,1,5\n",
      "You got it!!\n"
     ]
    }
   ],
   "source": [
    "if __name__ == \"__main__\":\n",
    "    new_game2 = BaseballGame(2)\n",
    "    new_game2.play()"
   ]
  },
  {
   "cell_type": "code",
   "execution_count": 10,
   "metadata": {},
   "outputs": [
    {
     "name": "stdout",
     "output_type": "stream",
     "text": [
      "What is your guess: 1, 2, 3\n",
      "0S 1B\n",
      "What is your guess: 1, 5, 6\n",
      "0S 0B\n",
      "What is your guess: 2, 5, 6\n",
      "0S 0B\n",
      "What is your guess: 3, 5, 7\n",
      "1S 0B\n",
      "What is your guess: 3, 4, 8\n",
      "2S 0B\n",
      "What is your guess: 3, 4, 9\n",
      "1S 1B\n",
      "What is your guess: 3, 9, 8\n",
      "You got it!!\n"
     ]
    }
   ],
   "source": [
    "if __name__ == \"__main__\":\n",
    "    new_game2 = BaseballGame(3)\n",
    "    new_game2.play()"
   ]
  },
  {
   "cell_type": "code",
   "execution_count": 11,
   "metadata": {},
   "outputs": [
    {
     "name": "stdout",
     "output_type": "stream",
     "text": [
      "1, 2  , 3.0, 22, 14, 22, 1 \n"
     ]
    }
   ],
   "source": [
    "a = '1, 2  , 3.0, 22, 14, 22, 1 '\n",
    "map(lambda x: int(x.strip()), a)\n",
    "print(a)"
   ]
  },
  {
   "cell_type": "code",
   "execution_count": null,
   "metadata": {},
   "outputs": [],
   "source": [
    "a = '1, 2  , 3.0, 22, 14, 22, 1 '\n",
    "a = a.split(',')\n",
    "print(a)\n",
    "b = []\n",
    "for char in a:\n",
    "    char = char.replace(' ', '')\n",
    "    b.append(char)\n",
    "print(b)\n",
    "b = set(b)\n",
    "print(b)\n",
    "a = tuple(a)\n",
    "# print(a)\n",
    "arr = [  ]\n",
    "num_lst = []\n",
    "for i in range(10):\n",
    "    arr.append(str(i))\n",
    "for j in a:\n",
    "    if j in arr:\n",
    "        num_lst.append(int(j))\n",
    "        \n",
    "# print(a)\n",
    "# print(num_lst)"
   ]
  },
  {
   "cell_type": "code",
   "execution_count": null,
   "metadata": {},
   "outputs": [],
   "source": [
    "from collections import OrderedDict\n",
    "a = [3, 1, 1, 1, 2, 2, 3, 3]\n",
    "def un(a):\n",
    "    d = OrderedDict()\n",
    "    for i in a:\n",
    "        d[i] = True\n",
    "    return list(d.keys())"
   ]
  },
  {
   "cell_type": "code",
   "execution_count": null,
   "metadata": {},
   "outputs": [],
   "source": [
    "x = input('ss:')\n",
    "print('ss', x)"
   ]
  },
  {
   "cell_type": "code",
   "execution_count": null,
   "metadata": {},
   "outputs": [],
   "source": []
  }
 ],
 "metadata": {
  "kernelspec": {
   "display_name": "Python 3",
   "language": "python",
   "name": "python3"
  },
  "language_info": {
   "codemirror_mode": {
    "name": "ipython",
    "version": 3
   },
   "file_extension": ".py",
   "mimetype": "text/x-python",
   "name": "python",
   "nbconvert_exporter": "python",
   "pygments_lexer": "ipython3",
   "version": "3.8.2"
  }
 },
 "nbformat": 4,
 "nbformat_minor": 4
}
