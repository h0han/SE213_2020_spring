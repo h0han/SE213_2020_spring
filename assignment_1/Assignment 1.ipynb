{
 "cells": [
  {
   "cell_type": "code",
   "execution_count": 1,
   "metadata": {},
   "outputs": [
    {
     "name": "stdout",
     "output_type": "stream",
     "text": [
      "[(2.0, 0.6666666666666666), (3.0, 0.6666666666666666), (4.0, 0.6666666666666666)]\n",
      "[(3.0, 2.0), (4.0, 2.0), (5.0, 2.0)]\n",
      "[(3.0, 2.0), (4.0, 2.0), (5.0, 2.0), (2.775, 1.611875)]\n"
     ]
    }
   ],
   "source": [
    "#평균과 분산 계산\n",
    "def get_mean_var_list(numbers_list):\n",
    "    arr = []\n",
    "    for i in range(0, len(numbers_list)):\n",
    "        tup_arr = [] # 튜플로 변환할 리스트, 평균과 분산이 insert됨\n",
    "        ave = sum(numbers_list[i])/len(numbers_list[i])\n",
    "        tup_arr.append(ave)\n",
    "        fvar = [] # 분산을 구하기 위한 list, (elem-ave)**2 값이 insert됨\n",
    "        for j in range(0, len(numbers_list[i])):\n",
    "            nvar = (numbers_list[i][j] - ave)**2\n",
    "            fvar.append(nvar)\n",
    "            if numbers_list[i][j] == numbers_list[i][-1]: #j번째 값이 내부 리스트의 -1번쨰 값이 되었을 경우 실행\n",
    "                var = sum(fvar)/len(fvar) # 분산\n",
    "                tup_arr.append(var)\n",
    "                tup = tuple(tup_arr) # 튜플로 변환\n",
    "                arr.append(tup) # 변환한 튜플을 arr에 append\n",
    "    return print(arr)\n",
    "get_mean_var_list([[1, 2, 3], [2, 3, 4], [3, 4, 5]])\n",
    "get_mean_var_list([[1, 2, 3, 4, 5], [2, 3, 4, 5, 6], [3, 4, 5, 6, 7]])\n",
    "get_mean_var_list([[1, 2, 3, 4, 5], [2, 3, 4, 5, 6], [3, 4, 5, 6, 7], [1.2, 3.4, 2, 4.5]])"
   ]
  },
  {
   "cell_type": "code",
   "execution_count": 14,
   "metadata": {},
   "outputs": [
    {
     "name": "stdout",
     "output_type": "stream",
     "text": [
      "[1, 1, 2, 3, 5, 8, 13, 21, 34, 55, 89, 144, 233, 377, 610, 987, 1597, 2584, 4181, 6765, 10946, 17711, 28657, 46368]\n",
      "Confirm your number; Type of number has to be integer.\n",
      "None\n",
      "Confirm your number; The number has to be interger that is bigger than zero.\n",
      "None\n",
      "[1, 1, 2, 3, 5]\n"
     ]
    }
   ],
   "source": [
    "#피보나치 수열 만들기\n",
    "def fibonacci_seq(n): # input <= 2일 경우, 1을 append하고 input > 2일 경우 앞의 수와 (앞의 수 - 1)번쨰 수를 더한 값을 append\n",
    "    if type(n) != int: #optional\n",
    "        print('Confirm your number; Type of number has to be integer.')\n",
    "    elif n <= 0:\n",
    "        print('Confirm your number; The number has to be interger that is bigger than zero.')\n",
    "    else:\n",
    "        lst = []\n",
    "        for k in range(1, n+1):\n",
    "            if k <= 2:\n",
    "                lst.append(1)\n",
    "            elif k > 2:\n",
    "                lst.append(lst[k-2]+lst[k-3])\n",
    "        return lst\n",
    "            \n",
    "print(fibonacci_seq(24))\n",
    "print(fibonacci_seq(3.2))\n",
    "print(fibonacci_seq(0))\n",
    "print(fibonacci_seq(5))"
   ]
  },
  {
   "cell_type": "code",
   "execution_count": 3,
   "metadata": {},
   "outputs": [
    {
     "name": "stdout",
     "output_type": "stream",
     "text": [
      "The tomato is delicious. The tomato is red.\n",
      "The apapapple is delicious. The apple is red.\n",
      "123 is delicious. 123 is red.\n"
     ]
    }
   ],
   "source": [
    "#문자열 치환 함수\n",
    "def replaced(original_str, old_str, new_str, cnt = -1): #replaced() 함수 정의\n",
    "    def reverse(original_str): #replaced 안에서 입력된 문자열을 역순으로 바꾸어주는 함수 정의\n",
    "        reversed_str = ''\n",
    "        for char in original_str:\n",
    "            reversed_str = char + reversed_str\n",
    "        return reversed_str\n",
    "    num = original_str.count(old_str)\n",
    "    \n",
    "    if cnt == 0: #만약 cnt == 0이면, 원래의 문자열을 반환\n",
    "        return original_str\n",
    "    \n",
    "    elif cnt == -1: #cnt == -1이면, old_str가 original_str에 일치하는 수만큼 loop를 진행\n",
    "        for i in range(num):\n",
    "            index = original_str.index(old_str) #old_str의 0번째 문자가 위치하는 index 할당\n",
    "            reversed_index = reverse(original_str).rindex(reverse(old_str)) #역순 리스트에서도 동일한 방법으로 old_str의 마지막 문자가 위치하는 index 할당 \n",
    "            if reversed_index == 0: #바꾸는 문자열이 orig의 맨 끝단에 위치할 경우\n",
    "                original_str = original_str[0:index] + new_str\n",
    "            else:\n",
    "                original_str = original_str[0:index] + new_str + original_str[-reversed_index:] #original_str을 새로이 할당\n",
    "        return original_str\n",
    "\n",
    "    else:\n",
    "        if cnt > num: #cnt가 old_str과 일치하는 수보다 큰 경우\n",
    "            for k in range(num): #num만큼 loop 실행\n",
    "                index = original_str.index(old_str)\n",
    "                reversed_index = reverse(original_str).rindex(reverse(old_str))\n",
    "                if reversed_index == 0:\n",
    "                    original_str = original_str[0:index] + new_str\n",
    "                else:\n",
    "                    original_str = original_str[0:index] + new_str + original_str[-reversed_index:]\n",
    "            return original_str\n",
    "        \n",
    "        else:\n",
    "            for k in range(cnt):\n",
    "                index = original_str.index(old_str)\n",
    "                reversed_index = reverse(original_str).rindex(reverse(old_str))\n",
    "                if reversed_index == 0:\n",
    "                    original_str = original_str[0:index] + new_str\n",
    "                else:\n",
    "                    original_str = original_str[0:index] + new_str + original_str[-reversed_index:]\n",
    "            return original_str\n",
    "\n",
    "orig = \"The apple is delicious. The apple is red.\"\n",
    "print(replaced(orig, \"apple\", \"tomato\"))\n",
    "print(replaced(orig, \"ap\", \"apap\", 100))\n",
    "orig = \"The apple is delicious. The apple is red.\"\n",
    "print(replaced(orig,\"The apple\", '123', 2))"
   ]
  },
  {
   "cell_type": "code",
   "execution_count": 4,
   "metadata": {},
   "outputs": [
    {
     "name": "stdout",
     "output_type": "stream",
     "text": [
      "The tomato is delicious. The tomato is red.\n",
      "The apapple is delicious. The apapple is red.\n",
      "123\n"
     ]
    }
   ],
   "source": [
    "#문자열 치환 함수\n",
    "def replaced(original_str, old_str, new_str, cnt = -1): #문자열 치환 함수 정의\n",
    "    if cnt != -1:\n",
    "        return original_str.replace(old_str, new_str, cnt)\n",
    "\n",
    "    else:\n",
    "        return original_str.replace(old_str, new_str)\n",
    "\n",
    "orig = \"The apple is delicious. The apple is red.\"\n",
    "print(replaced(orig, \"apple\", \"tomato\"))\n",
    "print(replaced(orig, \"ap\", \"apap\", 100))\n",
    "orig = \"The apple is delicious. The apple is red.\"\n",
    "print(replaced(orig,\"The apple is delicious. The apple is red.\", '123', -1))"
   ]
  },
  {
   "cell_type": "code",
   "execution_count": null,
   "metadata": {},
   "outputs": [],
   "source": []
  }
 ],
 "metadata": {
  "kernelspec": {
   "display_name": "Python 3",
   "language": "python",
   "name": "python3"
  },
  "language_info": {
   "codemirror_mode": {
    "name": "ipython",
    "version": 3
   },
   "file_extension": ".py",
   "mimetype": "text/x-python",
   "name": "python",
   "nbconvert_exporter": "python",
   "pygments_lexer": "ipython3",
   "version": "3.7.4"
  }
 },
 "nbformat": 4,
 "nbformat_minor": 2
}
