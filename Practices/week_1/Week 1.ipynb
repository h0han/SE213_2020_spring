{
 "cells": [
  {
   "cell_type": "code",
   "execution_count": 3,
   "metadata": {},
   "outputs": [
    {
     "name": "stdout",
     "output_type": "stream",
     "text": [
      "Enter your last name: Bond\n",
      "Enter your first name: James\n",
      "James Bond\n",
      "Bond , James\n"
     ]
    }
   ],
   "source": [
    "name1 = input('Enter your last name: ')\n",
    "\n",
    "name2 = input('Enter your first name: ')\n",
    "\n",
    "print(name2, name1)\n",
    "print(name1, ',', name2)"
   ]
  },
  {
   "cell_type": "code",
   "execution_count": 5,
   "metadata": {},
   "outputs": [
    {
     "name": "stdout",
     "output_type": "stream",
     "text": [
      "Enter a degree: 10\n",
      "50.0\n"
     ]
    }
   ],
   "source": [
    "C = float(input('Enter a degree: '))\n",
    "F = float(C*9/5+32)\n",
    "print(F)"
   ]
  },
  {
   "cell_type": "code",
   "execution_count": 9,
   "metadata": {},
   "outputs": [
    {
     "name": "stdout",
     "output_type": "stream",
     "text": [
      "Enter the mass of object 1 (kg): 1\n",
      "Enter the mass of object 2 (kg): 1\n",
      "Enter the distance between object 1 and object 2 (m): 1\n",
      "The force between the object 1 and object 2 is 6.67384e-11 N\n"
     ]
    }
   ],
   "source": [
    "m1 = float(input('Enter the mass of object 1 (kg): '))\n",
    "m2 = float(input('Enter the mass of object 2 (kg): '))\n",
    "r = float(input('Enter the distance between object 1 and object 2 (m): '))\n",
    "G = 6.67384*1/10**11\n",
    "F = G*(m1*m2)/r**2\n",
    "print('The force between the object 1 and object 2 is', F, 'N')"
   ]
  },
  {
   "cell_type": "code",
   "execution_count": 10,
   "metadata": {},
   "outputs": [
    {
     "name": "stdout",
     "output_type": "stream",
     "text": [
      "Enter the radius of a sphere: 12.3\n",
      "The volume of the sphere: 7794.779840352002\n",
      "The surface area of the sphere: 1901.1658147200003\n"
     ]
    }
   ],
   "source": [
    "r = float(input('Enter the radius of a sphere: '))\n",
    "V = 4/3*3.141592*r**3\n",
    "print(\"The volume of the sphere:\", V)\n",
    "S = 4*3.141592*r**2\n",
    "print(\"The surface area of the sphere:\", S)"
   ]
  },
  {
   "cell_type": "code",
   "execution_count": 2,
   "metadata": {},
   "outputs": [
    {
     "name": "stdout",
     "output_type": "stream",
     "text": [
      "Enter the r: 1\n",
      "v 4.188789333333333\n",
      "s 12.566368\n"
     ]
    }
   ],
   "source": [
    "r = float(input(\"Enter the r: \"))\n",
    "pi = 3.141592\n",
    "v = 4/3*pi*r**3\n",
    "V = float(v)\n",
    "s = 4*pi*r**2\n",
    "S = float(s)\n",
    "print('v', V)\n",
    "print('s', S)"
   ]
  },
  {
   "cell_type": "code",
   "execution_count": null,
   "metadata": {},
   "outputs": [],
   "source": []
  }
 ],
 "metadata": {
  "kernelspec": {
   "display_name": "Python 3",
   "language": "python",
   "name": "python3"
  },
  "language_info": {
   "codemirror_mode": {
    "name": "ipython",
    "version": 3
   },
   "file_extension": ".py",
   "mimetype": "text/x-python",
   "name": "python",
   "nbconvert_exporter": "python",
   "pygments_lexer": "ipython3",
   "version": "3.7.4"
  }
 },
 "nbformat": 4,
 "nbformat_minor": 2
}
