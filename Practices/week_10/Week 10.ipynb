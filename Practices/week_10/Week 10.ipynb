{
 "cells": [
  {
   "cell_type": "code",
   "execution_count": null,
   "metadata": {},
   "outputs": [],
   "source": [
    "#61 휴대폰 번호 찾기\n",
    "import re\n",
    "def phone_number(contents):\n",
    "    if type(contents) == str and len(contents) >= 0:\n",
    "        lst = re.findall('[0-9]{3}-[0-9]{3,4}-[0-9]{4}', contents)\n",
    "    return lst"
   ]
  },
  {
   "cell_type": "code",
   "execution_count": null,
   "metadata": {},
   "outputs": [],
   "source": [
    "#62 E-mail address 찾기\n",
    "import re\n",
    "def getEmailAddr(txt):\n",
    "    if type(txt) == str and len(txt) >= 0:\n",
    "        lst = re.findall('\\w*@[\\w.\\w]+', txt)\n",
    "        for mail in lst:\n",
    "            if '.' not in mail:\n",
    "                del lst[lst.index(mail)]\n",
    "    return lst"
   ]
  },
  {
   "cell_type": "code",
   "execution_count": null,
   "metadata": {},
   "outputs": [],
   "source": [
    "#63 DGIST 홈페이지 내 URL 찾기\n",
    "from urllib.request import urlopen\n",
    "import re\n",
    "def getEmailAddr(txt):\n",
    "    if type(txt) == str and len(txt) >= 0:\n",
    "        lst = re.findall('\\w*@[\\w.\\w]+', txt)\n",
    "        for mail in lst:\n",
    "            if '.' not in mail:\n",
    "                del lst[lst.index(mail)]\n",
    "    return lst\n",
    "\n",
    "def getURL(txt):\n",
    "    lst = re.findall('dgist.ac.kr/[[a-z09/_.]*.[a-z0-9/_.]*]*', txt)\n",
    "    arr = []\n",
    "    for char in lst:\n",
    "        c = char.replace('\"','')\n",
    "        arr.append(c)\n",
    "    return arr"
   ]
  },
  {
   "cell_type": "code",
   "execution_count": null,
   "metadata": {},
   "outputs": [],
   "source": [
    "if __name__ == '__main__':\n",
    "    with urlopen(\"https://www.dgist.ac.kr/kr/\") as u :\n",
    "        dgist = u.read().decode(\"utf-8\")\n",
    "    print(getEmailAddr(dgist))\n",
    "    print(getURL(dgist))"
   ]
  },
  {
   "cell_type": "code",
   "execution_count": null,
   "metadata": {},
   "outputs": [],
   "source": [
    "#64 기상청 사이트에서 대구지역 내일 날씨 가져오기\n",
    "from urllib.request import urlopen\n",
    "import re\n",
    "def getForecast(loc, day):\n",
    "    with urlopen(\"https://www.weather.go.kr/weather/forecast/mid-term-rss3.jsp?stnId=108\") as u:\n",
    "        txt = u.read().decode(\"utf-8\")\n",
    "        split_txt = txt.splitlines()\n",
    "        for char in split_txt:\n",
    "            if '<city>'+ loc + '</city>' in char:\n",
    "                split_txt = split_txt[split_txt.index(char):]\n",
    "        for char in split_txt:\n",
    "            if '\\t\\t\\t\\t\\t<mode>A01</mode>' in char:\n",
    "                split_txt = split_txt[split_txt.index(char):]\n",
    "        for char in split_txt:\n",
    "            if '\\t\\t\\t\\t\\t<tmEf>' + day + ' 00:00</tmEf>' in char:\n",
    "                split_txt = split_txt[split_txt.index(char):]\n",
    "        weather = split_txt[1]\n",
    "        weather = re.findall('[가-힣]+', weather)[0]\n",
    "    return weather"
   ]
  },
  {
   "cell_type": "code",
   "execution_count": null,
   "metadata": {},
   "outputs": [],
   "source": [
    "#65 숫자 맞추기 게임\n",
    "import random\n",
    "def guess_number(seed_num=None):\n",
    "    seed_num = random.randrange(0, 100)\n",
    "    yn = int(input('Enter your guess: ',))\n",
    "    while yn != seed_num:\n",
    "        if yn > seed_num:\n",
    "            print('Too big!')\n",
    "            yn = int(input('Enter your guess: ',))\n",
    "        elif yn < seed_num:\n",
    "            print('Too small!')\n",
    "            yn = int(input('Enter your guess: ',))\n",
    "    print('You got it!')"
   ]
  },
  {
   "cell_type": "code",
   "execution_count": null,
   "metadata": {},
   "outputs": [],
   "source": [
    "guess_number()"
   ]
  },
  {
   "cell_type": "code",
   "execution_count": null,
   "metadata": {},
   "outputs": [],
   "source": []
  }
 ],
 "metadata": {
  "kernelspec": {
   "display_name": "Python 3",
   "language": "python",
   "name": "python3"
  },
  "language_info": {
   "codemirror_mode": {
    "name": "ipython",
    "version": 3
   },
   "file_extension": ".py",
   "mimetype": "text/x-python",
   "name": "python",
   "nbconvert_exporter": "python",
   "pygments_lexer": "ipython3",
   "version": "3.7.4"
  }
 },
 "nbformat": 4,
 "nbformat_minor": 2
}
