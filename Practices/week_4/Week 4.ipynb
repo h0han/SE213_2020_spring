{
 "cells": [
  {
   "cell_type": "code",
   "execution_count": 5,
   "metadata": {},
   "outputs": [
    {
     "name": "stdout",
     "output_type": "stream",
     "text": [
      "First pyramid\n",
      "*\n",
      "**\n",
      "***\n",
      "****\n",
      "*****\n",
      "Second pyramid\n",
      "*\n",
      "**\n",
      "***\n"
     ]
    }
   ],
   "source": [
    "# 문자열 삼각형\n",
    "def print_pyramid(n):\n",
    "    k = int(n)\n",
    "    arr = []\n",
    "    \n",
    "    for i in range(k):\n",
    "        if i < k:\n",
    "            arr.append('*'*(i+1))\n",
    "        else:\n",
    "            break\n",
    "    for m in range(len(arr)):\n",
    "        print(arr[m])\n",
    "    \n",
    "print('First pyramid')\n",
    "print_pyramid(5)\n",
    "print('Second pyramid')\n",
    "print_pyramid(3)"
   ]
  },
  {
   "cell_type": "code",
   "execution_count": 6,
   "metadata": {},
   "outputs": [
    {
     "name": "stdout",
     "output_type": "stream",
     "text": [
      "Enter a positive number: 2\n",
      "Enter a positive number: 2\n",
      "Enter a positive number: 2\n",
      "Enter a positive number: 2, 3\n"
     ]
    },
    {
     "ename": "ValueError",
     "evalue": "invalid literal for int() with base 10: '2, 3'",
     "output_type": "error",
     "traceback": [
      "\u001b[1;31m---------------------------------------------------------------------------\u001b[0m",
      "\u001b[1;31mValueError\u001b[0m                                Traceback (most recent call last)",
      "\u001b[1;32m<ipython-input-6-727469ea850d>\u001b[0m in \u001b[0;36m<module>\u001b[1;34m\u001b[0m\n\u001b[0;32m     22\u001b[0m     \u001b[0mprint\u001b[0m\u001b[1;33m(\u001b[0m\u001b[1;34m'The elements:'\u001b[0m\u001b[1;33m,\u001b[0m \u001b[0marr1\u001b[0m\u001b[1;33m)\u001b[0m\u001b[1;33m\u001b[0m\u001b[1;33m\u001b[0m\u001b[0m\n\u001b[0;32m     23\u001b[0m \u001b[1;33m\u001b[0m\u001b[0m\n\u001b[1;32m---> 24\u001b[1;33m \u001b[0mpositive_numbers\u001b[0m \u001b[1;33m=\u001b[0m \u001b[0minput_numbers\u001b[0m\u001b[1;33m(\u001b[0m\u001b[1;33m)\u001b[0m\u001b[1;33m\u001b[0m\u001b[1;33m\u001b[0m\u001b[0m\n\u001b[0m\u001b[0;32m     25\u001b[0m \u001b[0mdescribe\u001b[0m\u001b[1;33m(\u001b[0m\u001b[0mpositive_numbers\u001b[0m\u001b[1;33m)\u001b[0m\u001b[1;33m\u001b[0m\u001b[1;33m\u001b[0m\u001b[0m\n",
      "\u001b[1;32m<ipython-input-6-727469ea850d>\u001b[0m in \u001b[0;36minput_numbers\u001b[1;34m()\u001b[0m\n\u001b[0;32m      7\u001b[0m         \u001b[0marr1\u001b[0m\u001b[1;33m.\u001b[0m\u001b[0mappend\u001b[0m\u001b[1;33m(\u001b[0m\u001b[0mi\u001b[0m\u001b[1;33m)\u001b[0m\u001b[1;33m\u001b[0m\u001b[1;33m\u001b[0m\u001b[0m\n\u001b[0;32m      8\u001b[0m         \u001b[1;32mwhile\u001b[0m \u001b[0mi\u001b[0m \u001b[1;33m>\u001b[0m \u001b[1;36m0\u001b[0m\u001b[1;33m:\u001b[0m\u001b[1;33m\u001b[0m\u001b[1;33m\u001b[0m\u001b[0m\n\u001b[1;32m----> 9\u001b[1;33m             \u001b[0mi\u001b[0m \u001b[1;33m=\u001b[0m \u001b[0mint\u001b[0m\u001b[1;33m(\u001b[0m\u001b[0minput\u001b[0m\u001b[1;33m(\u001b[0m\u001b[1;34m'Enter a positive number: '\u001b[0m\u001b[1;33m,\u001b[0m \u001b[1;33m)\u001b[0m\u001b[1;33m)\u001b[0m\u001b[1;33m\u001b[0m\u001b[1;33m\u001b[0m\u001b[0m\n\u001b[0m\u001b[0;32m     10\u001b[0m             \u001b[1;32mif\u001b[0m \u001b[0mi\u001b[0m \u001b[1;33m!=\u001b[0m \u001b[1;36m0\u001b[0m\u001b[1;33m:\u001b[0m\u001b[1;33m\u001b[0m\u001b[1;33m\u001b[0m\u001b[0m\n\u001b[0;32m     11\u001b[0m                 \u001b[0marr1\u001b[0m\u001b[1;33m.\u001b[0m\u001b[0mappend\u001b[0m\u001b[1;33m(\u001b[0m\u001b[0mi\u001b[0m\u001b[1;33m)\u001b[0m\u001b[1;33m\u001b[0m\u001b[1;33m\u001b[0m\u001b[0m\n",
      "\u001b[1;31mValueError\u001b[0m: invalid literal for int() with base 10: '2, 3'"
     ]
    }
   ],
   "source": [
    "# 간단한 통계\n",
    "\n",
    "def input_numbers():\n",
    "    i = int(input('Enter a positive number: ', ))\n",
    "    arr1 = []\n",
    "    if i != 0:\n",
    "        arr1.append(i)\n",
    "        while i > 0:\n",
    "            i = int(input('Enter a positive number: ', ))\n",
    "            if i != 0:\n",
    "                arr1.append(i)\n",
    "                if i == 0:\n",
    "                    break\n",
    "    return arr1\n",
    "\n",
    "def describe(arr1):\n",
    "    print('The count of input numbers:', len(arr1))\n",
    "    print('The sum of input numbers:', sum(arr1))\n",
    "    print('The average of input numbers:', sum(arr1)/len(arr1))\n",
    "    print('The max of input numbers:', max(arr1))\n",
    "    print('The min of input numbers:', min(arr1))\n",
    "    print('The elements:', arr1)\n",
    "    \n",
    "positive_numbers = input_numbers()\n",
    "describe(positive_numbers)"
   ]
  },
  {
   "cell_type": "code",
   "execution_count": 7,
   "metadata": {},
   "outputs": [
    {
     "name": "stdout",
     "output_type": "stream",
     "text": [
      "[3, 2, -1]\n",
      "2.23606797749979\n",
      "2.23606797749979\n"
     ]
    }
   ],
   "source": [
    "# Additional: 벡터의 크기와 두 벡터의 합\n",
    "\n",
    "def vector_sum(X,Y):\n",
    "    arr = []\n",
    "    for i in range(len(X)):\n",
    "        arr.append(X[i] + Y[i])\n",
    "    print(arr)\n",
    "\n",
    "def vector_size(X):\n",
    "    arr = []\n",
    "    for i in range(len(X)):\n",
    "        arr.append(X[i]**2)\n",
    "    print(sum(arr)**0.5)\n",
    "    \n",
    "X = [2,0,-1]\n",
    "Y = [1,2,0]\n",
    "vector_sum(X,Y)\n",
    "vector_size(X)\n",
    "vector_size(Y)"
   ]
  },
  {
   "cell_type": "code",
   "execution_count": 8,
   "metadata": {},
   "outputs": [
    {
     "name": "stdout",
     "output_type": "stream",
     "text": [
      "3 Claps!\n",
      "0 Clap!\n",
      "22 Claps!\n",
      "Out of range!\n"
     ]
    }
   ],
   "source": [
    "# 3 6 9 게임\n",
    "\n",
    "def game_369(n):\n",
    "    i = int(n)\n",
    "    if i <= 1 or i >= 100:\n",
    "        print('Out of range!')\n",
    "    else:\n",
    "        clap = []\n",
    "        if i//3 == 0:\n",
    "            print('0 Clap!')\n",
    "        else:\n",
    "            arr = ''\n",
    "            for i in range(i):\n",
    "                arr += '{}'.format(i+1)\n",
    "            a = arr.count('3')\n",
    "            b = arr.count('6')\n",
    "            c = arr.count('9')\n",
    "            print(a+b+c, 'Claps!')\n",
    "                \n",
    "game_369(10)\n",
    "game_369(2)\n",
    "game_369(40)\n",
    "game_369(100)"
   ]
  },
  {
   "cell_type": "code",
   "execution_count": 9,
   "metadata": {},
   "outputs": [
    {
     "name": "stdout",
     "output_type": "stream",
     "text": [
      "235711131719\n"
     ]
    }
   ],
   "source": [
    "#소수 구하기\n",
    "def prime_number(number):\n",
    "    numarr =''\n",
    "    arr = []\n",
    "    for i in range(2, number+1):\n",
    "        cnt = 0\n",
    "        for k in range(1, i+1):\n",
    "            if i >= k:\n",
    "                if i%k == 0:\n",
    "                    cnt += 1\n",
    "            else:\n",
    "                continue\n",
    "        if cnt == 2:\n",
    "            numarr += '{}'.format(i)\n",
    "    print(numarr)\n",
    "            \n",
    "                        \n",
    "prime_number(20)"
   ]
  },
  {
   "cell_type": "code",
   "execution_count": 10,
   "metadata": {},
   "outputs": [
    {
     "name": "stdout",
     "output_type": "stream",
     "text": [
      "[84, 2048, 46]\n",
      "[840, 20480, 460]\n",
      "[420.0, 10240.0, 230.0]\n",
      "['ii', 'lovelove', 'pythonpython']\n"
     ]
    }
   ],
   "source": [
    "#리스트의 원소에 상수배를 하는 함수 작성\n",
    "def multiply_by_a_constant(t, a):\n",
    "    if len(t) != 3:\n",
    "        return None\n",
    "    else:\n",
    "        for i in range(len(t)):\n",
    "            t[i] = t[i] * a\n",
    "        return t\n",
    "        \n",
    "t = [42, 1024, 23]\n",
    "multiply_by_a_constant(t, 2)\n",
    "print(t)\n",
    "multiply_by_a_constant(t, 10)\n",
    "print(t)\n",
    "multiply_by_a_constant(t, 0.5)\n",
    "print(t)\n",
    "s = ['i', 'love', 'python']\n",
    "multiply_by_a_constant(s, 2)\n",
    "print(s)"
   ]
  },
  {
   "cell_type": "code",
   "execution_count": 11,
   "metadata": {},
   "outputs": [],
   "source": [
    "#리스트 두 개의 각각의 원소의 합을 구하는 함수\n",
    "def add(t1, t2):\n",
    "    if len(t1) != len(t2):\n",
    "        return None\n",
    "    else:\n",
    "        new_arr = []\n",
    "        for i in range(len(t1)):\n",
    "            new_arr.append(t1[i]+t2[i])\n",
    "        return new_arr"
   ]
  },
  {
   "cell_type": "code",
   "execution_count": 12,
   "metadata": {},
   "outputs": [
    {
     "name": "stdout",
     "output_type": "stream",
     "text": [
      "['c', 'b', 'a']\n",
      "['c', 'b', 'a']\n"
     ]
    }
   ],
   "source": [
    "#Reverse list\n",
    "def reverse(lst):\n",
    "    new_lst = []\n",
    "    for i in range(1, len(lst)+1):\n",
    "        new_lst.append(lst[-i])\n",
    "    for k in range(len(lst)):\n",
    "        if lst[k] != new_lst[k]:\n",
    "            lst[k] = new_lst[k]\n",
    "    return new_lst\n",
    "\n",
    "lst=['a','b','c']\n",
    "print(reverse(lst))\n",
    "print(lst)"
   ]
  },
  {
   "cell_type": "code",
   "execution_count": null,
   "metadata": {},
   "outputs": [],
   "source": []
  }
 ],
 "metadata": {
  "kernelspec": {
   "display_name": "Python 3",
   "language": "python",
   "name": "python3"
  },
  "language_info": {
   "codemirror_mode": {
    "name": "ipython",
    "version": 3
   },
   "file_extension": ".py",
   "mimetype": "text/x-python",
   "name": "python",
   "nbconvert_exporter": "python",
   "pygments_lexer": "ipython3",
   "version": "3.7.4"
  }
 },
 "nbformat": 4,
 "nbformat_minor": 2
}
