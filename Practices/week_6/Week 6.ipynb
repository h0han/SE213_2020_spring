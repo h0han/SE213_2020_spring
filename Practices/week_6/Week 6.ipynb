{
 "cells": [
  {
   "cell_type": "code",
   "execution_count": 1,
   "metadata": {},
   "outputs": [
    {
     "name": "stdout",
     "output_type": "stream",
     "text": [
      "  1  2  3  4  5  6  7  8  9\n",
      "  2  4  6  8 10 12 14 16 18\n",
      "  3  6  9 12 15 18 21 24 27\n",
      "  4  8 12 16 20 24 28 32 36\n",
      "  5 10 15 20 25 30 35 40 45\n",
      "  6 12 18 24 30 36 42 48 54\n",
      "  7 14 21 28 35 42 49 56 63\n",
      "  8 16 24 32 40 48 56 64 72\n",
      "  9 18 27 36 45 54 63 72 81\n",
      "\n"
     ]
    }
   ],
   "source": [
    "#37 : 구구단 파일 출력\n",
    "def write_file(file):\n",
    "    with open(file, 'w') as file_obj:\n",
    "        for n in range(1, 10):\n",
    "            file_obj.write('%3d%3d%3d%3d%3d%3d%3d%3d%3d\\n' % (n, 2*n, 3*n, 4*n, 5*n, 6*n, 7*n, 8*n, 9*n))\n",
    "def read_file(file):\n",
    "    with open(file, 'r') as file_obj:\n",
    "        print(file_obj.read())\n",
    "\n",
    "file = 'multi.py'\n",
    "write_file(file)\n",
    "read_file(file)"
   ]
  },
  {
   "cell_type": "code",
   "execution_count": 2,
   "metadata": {},
   "outputs": [
    {
     "name": "stdout",
     "output_type": "stream",
     "text": [
      "Apple : 1800.0 KWN\n",
      "Banana : 1200.0 KWN\n",
      "Cake : 14400.0 KWN\n",
      "\n"
     ]
    }
   ],
   "source": [
    "#38 : 문자열 변환\n",
    "def change_currency(sentence, rate):\n",
    "    menu = sentence.splitlines()\n",
    "    string =''\n",
    "    for i in menu:\n",
    "        elem,col,price,val = i.split()\n",
    "        cur = float(rate) * float(price)\n",
    "        new_str = f'{elem} : {cur} KWN'\n",
    "        if not i == len(menu)-1:\n",
    "            string += new_str + '\\n'\n",
    "        else:\n",
    "            string += new_str\n",
    "    return string\n",
    "\n",
    "menu = \"\"\"Apple : 1.5 USD\n",
    "Banana : 1 USD\n",
    "Cake : 12 USD\n",
    "\"\"\"\n",
    "usd = 1200.0 # 1usd = 1200kwn\n",
    "result = change_currency(menu, usd)\n",
    "print(result)"
   ]
  },
  {
   "cell_type": "code",
   "execution_count": 3,
   "metadata": {},
   "outputs": [
    {
     "name": "stdout",
     "output_type": "stream",
     "text": [
      "0\n",
      "-1\n",
      "2\n",
      "78\n"
     ]
    }
   ],
   "source": [
    "#39 : 문자열에서 문자 찾기\n",
    "def index(sentence, word):\n",
    "    sentence = sentence.lower()\n",
    "    word = word.lower()\n",
    "    if word in sentence:\n",
    "        return sentence.index(word)\n",
    "    else:\n",
    "        return -1\n",
    "    \n",
    "print(index(\"First, solve the problem. Then, write the code.\", \"first\"))\n",
    "print(index(\"Without requirements or design, programming is the art of adding bugs to an empty text file.\", \"first\"))\n",
    "print(index(\"Computers are good at following instructions, but not at reading your mind.\", \"m\"))\n",
    "print(index(\"Always code as if the guy who ends up maintaining your code will be a violent psychopath who knows where you live.\", \"psychopath\"))"
   ]
  },
  {
   "cell_type": "code",
   "execution_count": null,
   "metadata": {},
   "outputs": [],
   "source": [
    "def index(sentence, word):\n",
    "    if word in sentence:\n",
    "        "
   ]
  },
  {
   "cell_type": "code",
   "execution_count": 4,
   "metadata": {},
   "outputs": [
    {
     "name": "stdout",
     "output_type": "stream",
     "text": [
      "None\n"
     ]
    }
   ],
   "source": [
    "a = 'abc bc'\n",
    "b = []\n",
    "c = b.append(a)\n",
    "print(c)"
   ]
  },
  {
   "cell_type": "code",
   "execution_count": 4,
   "metadata": {},
   "outputs": [
    {
     "name": "stdout",
     "output_type": "stream",
     "text": [
      "Output of pyramid('**', 3)\n",
      "None\n",
      "Output of pyramid('+', 3)\n",
      "+  \n",
      "++ \n",
      "+++\n",
      "\n",
      "Output of pyramid('*', 5)\n",
      "*    \n",
      "**   \n",
      "***  \n",
      "**** \n",
      "*****\n",
      "\n",
      "Output of pyramid('*', 5, 0)\n",
      "  *  \n",
      " **  \n",
      " *** \n",
      "**** \n",
      "*****\n",
      "\n",
      "Output of pyramid('*', 5, 1)\n",
      "    *\n",
      "   **\n",
      "  ***\n",
      " ****\n",
      "*****\n",
      "\n"
     ]
    }
   ],
   "source": [
    "#40 : 문자열 피라미드\n",
    "def pyramid(char, n, alignment = -1):\n",
    "    if len(char) > 1:\n",
    "        return None\n",
    "    elif alignment not in [-1, 0, 1]:\n",
    "        return None\n",
    "    else:\n",
    "        string = ''\n",
    "        if alignment == -1:\n",
    "            for i in range(n):\n",
    "                string += '{}\\n'.format(char*(i+1) + ' '*(n-i-1))\n",
    "            return string\n",
    "        \n",
    "        elif alignment == 0:\n",
    "            nchar = char * n\n",
    "            arr = []\n",
    "            arr.append(nchar)\n",
    "            for j in range(n-1):\n",
    "                if j % 2 == 0:\n",
    "                    a = nchar.rindex(char)\n",
    "                    nchar = nchar[:a] + ' '*((j+2)//2)\n",
    "                    arr.append(nchar)\n",
    "                elif j % 2 == 1:\n",
    "                    a = nchar.index(char)\n",
    "                    nchar = ' '*((j+1)//2) + nchar[a+1:]\n",
    "                    arr.append(nchar)\n",
    "            rev_arr = list(reversed(arr))\n",
    "            string = ''\n",
    "            for k in range(n):\n",
    "                string += '{}\\n'.format(rev_arr[k])\n",
    "            return string\n",
    "        \n",
    "        elif alignment == 1:\n",
    "            nchar = char * n\n",
    "            arr = []\n",
    "            arr.append(nchar)\n",
    "            for l in range(n-1):\n",
    "                a = nchar.index(char)\n",
    "                nchar = ' '*(l+1) + nchar[a+1:]\n",
    "                arr.append(nchar)\n",
    "            rev_arr = list(reversed(arr))\n",
    "            string = ''\n",
    "            for m in range(n):\n",
    "                string += '{}\\n'.format(rev_arr[m])\n",
    "            return string\n",
    "                    \n",
    "                \n",
    "print(\"Output of pyramid('**', 3)\")\n",
    "print(pyramid('**', 3))\n",
    "print(\"Output of pyramid('+', 3)\")\n",
    "print(pyramid('+', 3))\n",
    "print(\"Output of pyramid('*', 5)\")\n",
    "print(pyramid('*', 5))\n",
    "print(\"Output of pyramid('*', 5, 0)\")\n",
    "print(pyramid('*', 5, 0))\n",
    "print(\"Output of pyramid('*', 5, 1)\")\n",
    "print(pyramid('*', 5, 1))"
   ]
  },
  {
   "cell_type": "code",
   "execution_count": 5,
   "metadata": {},
   "outputs": [
    {
     "name": "stdout",
     "output_type": "stream",
     "text": [
      "[('you', 2), ('learn', 2)]\n"
     ]
    }
   ],
   "source": [
    "#41 : 단어의 출현 횟수 세기\n",
    "def dic(text):\n",
    "    arr = text.split(' ')\n",
    "    fin_lst = []\n",
    "    for i in arr:\n",
    "        lst = []\n",
    "        cnt = arr.count(i)\n",
    "        if cnt >= 2:\n",
    "            lst.append(i)\n",
    "            lst.append(cnt)\n",
    "        else:\n",
    "            continue\n",
    "        fin_lst.append(tuple(lst))\n",
    "    for j in fin_lst:\n",
    "        if fin_lst.count(j) >= 2:\n",
    "            for k in range(fin_lst.count(j)-1):\n",
    "                fin_lst.remove(j)\n",
    "    return fin_lst\n",
    "\n",
    "print(dic('you learn you learn you.'))"
   ]
  }
 ],
 "metadata": {
  "kernelspec": {
   "display_name": "Python 3",
   "language": "python",
   "name": "python3"
  },
  "language_info": {
   "codemirror_mode": {
    "name": "ipython",
    "version": 3
   },
   "file_extension": ".py",
   "mimetype": "text/x-python",
   "name": "python",
   "nbconvert_exporter": "python",
   "pygments_lexer": "ipython3",
   "version": "3.7.4"
  }
 },
 "nbformat": 4,
 "nbformat_minor": 2
}
