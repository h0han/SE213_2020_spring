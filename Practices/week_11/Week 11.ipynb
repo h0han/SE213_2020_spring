{
 "cells": [
  {
   "cell_type": "code",
   "execution_count": null,
   "metadata": {
    "scrolled": true
   },
   "outputs": [],
   "source": [
    "#69 카운팅(이론시간 예제)\n",
    "def count_items(sequence):\n",
    "    count = {}\n",
    "    for item in sequence:\n",
    "        count[item] += 1\n",
    "    return count\n",
    "\n",
    "t = ['python', 'c++', 'python', 'go', 'java', 'java']\n",
    "try:\n",
    "    print(count_items(t))\n",
    "except KeyError:\n",
    "    def count_items(sequence):\n",
    "        count = {}\n",
    "        for item in t:\n",
    "            if item not in count.keys():\n",
    "                count[item] = 0\n",
    "            count[item] += 1\n",
    "        return count\n",
    "    print(count_items(t))"
   ]
  },
  {
   "cell_type": "code",
   "execution_count": null,
   "metadata": {},
   "outputs": [],
   "source": [
    "#70 점화식(재귀호출 이용)\n",
    "def sequence_a(n):\n",
    "    if n == 0:\n",
    "        return 1\n",
    "    return 2*sequence_a(n-1) + 1"
   ]
  },
  {
   "cell_type": "code",
   "execution_count": null,
   "metadata": {},
   "outputs": [],
   "source": [
    "print(sequence_a(0))\n",
    "print(sequence_a(1))\n",
    "print(sequence_a(5))"
   ]
  },
  {
   "cell_type": "code",
   "execution_count": null,
   "metadata": {},
   "outputs": [],
   "source": [
    "#71 점화식(재귀호출 대신 반복문 이용)\n",
    "def sequence_a(n):\n",
    "    arr = [1]\n",
    "    for i in range(1, n+1):\n",
    "        arr.append(2*arr[i-1]+1)\n",
    "    return arr[n]\n",
    "print(sequence_a(0))\n",
    "print(sequence_a(1))\n",
    "print(sequence_a(5))"
   ]
  },
  {
   "cell_type": "code",
   "execution_count": null,
   "metadata": {},
   "outputs": [],
   "source": [
    "# 72 리스트의 최댓값(재귀호출 이용)\n",
    "def find_max(t, l, r):\n",
    "    if len(t) >= 1:\n",
    "        var = 0\n",
    "        buf = t[l]\n",
    "        while l != r:\n",
    "            if buf < t[l+1]:\n",
    "                var = t[l+1]\n",
    "            else:\n",
    "                var = buf\n",
    "            l += 1\n",
    "            find_max(t, l, r)\n",
    "        return var\n",
    "t = [1, 2]\n",
    "print(find_max(t, 0, len(t) - 1))\n",
    "t = [36, 43, 70, 76, 32, 7, 8, 21, 69, 78]\n",
    "print(find_max(t, 0, len(t) - 1))\n",
    "t = [1, -1, -2, 3, 2, 10]\n",
    "print(find_max(t, 0, len(t) - 1))\n",
    "t = [0,0,0,0,0,0]\n",
    "print(find_max(t, 0, len(t) - 1))\n",
    "t = [100, 70, 2, 30, 5]\n",
    "print(find_max(t, 0, len(t) - 1))"
   ]
  },
  {
   "cell_type": "code",
   "execution_count": null,
   "metadata": {},
   "outputs": [],
   "source": [
    "#73 경로 개수 계산\n",
    "def calcPath(inserted_map, x, y):\n",
    "    if y > len(inserted_map)-1 or x > len(inserted_map)-1:\n",
    "        return 0\n",
    "    num = inserted_map[y][x]\n",
    "    if x == len(inserted_map)-1 and y == len(inserted_map)-1:\n",
    "        return 1\n",
    "    else:\n",
    "        return calcPath(inserted_map, x, y+num) + calcPath(inserted_map, x+num, y)"
   ]
  },
  {
   "cell_type": "code",
   "execution_count": null,
   "metadata": {},
   "outputs": [],
   "source": []
  }
 ],
 "metadata": {
  "kernelspec": {
   "display_name": "Python 3",
   "language": "python",
   "name": "python3"
  },
  "language_info": {
   "codemirror_mode": {
    "name": "ipython",
    "version": 3
   },
   "file_extension": ".py",
   "mimetype": "text/x-python",
   "name": "python",
   "nbconvert_exporter": "python",
   "pygments_lexer": "ipython3",
   "version": "3.8.2"
  }
 },
 "nbformat": 4,
 "nbformat_minor": 4
}
