{
 "cells": [
  {
   "cell_type": "code",
   "execution_count": 1,
   "metadata": {},
   "outputs": [],
   "source": [
    "#56 MyCounter\n",
    "class MyCounter():\n",
    "    n = 0\n",
    "    def __init__(self, value = 0):\n",
    "        self.counter = value\n",
    "        MyCounter.n += 1\n",
    "        \n",
    "    def inc(self):\n",
    "        self.counter += 1\n",
    "    \n",
    "    def dec(self):\n",
    "        self.counter -= 1\n",
    "        \n",
    "    def get(self):\n",
    "        return self.counter\n",
    "    \n",
    "    def set(self, value):\n",
    "        self.counter = value"
   ]
  },
  {
   "cell_type": "code",
   "execution_count": 2,
   "metadata": {},
   "outputs": [],
   "source": [
    "#57 MyCounter 확장(연산자 사용)\n",
    "class MyCounter():\n",
    "    def __init__(self, value = 0):\n",
    "        self.counter = value\n",
    "        \n",
    "    def inc(self):\n",
    "        self.counter += 1\n",
    "        \n",
    "    def get(self):\n",
    "        return self.counter\n",
    "    \n",
    "    def __eq__(self, other_counter):\n",
    "        return self.get() == other_counter.get()\n",
    "        \n",
    "    def __add__(self, obj):\n",
    "        if type(obj) == int:\n",
    "            return obj + self.get()\n",
    "        return obj.get() + self.get()"
   ]
  },
  {
   "cell_type": "code",
   "execution_count": 3,
   "metadata": {},
   "outputs": [],
   "source": [
    "#58 직사각형의 둘레 및 넓이\n",
    "class Rectangle():\n",
    "    def __init__(self, width, height):\n",
    "        self.width = width\n",
    "        self.height = height\n",
    "        \n",
    "    def set(self, new_width, new_height):\n",
    "        self.width = new_width\n",
    "        self.height = new_height\n",
    "        \n",
    "    def calcPerimeter(self):\n",
    "        return 2 * (self.width + self.height)\n",
    "    \n",
    "    def calcArea(self):\n",
    "        return self.width * self.height"
   ]
  },
  {
   "cell_type": "code",
   "execution_count": 7,
   "metadata": {},
   "outputs": [],
   "source": [
    "#59 Bank Account\n",
    "class BankAccount():\n",
    "    def __init__(self, balance = 0):\n",
    "        self.balance = balance\n",
    "        \n",
    "    def getBalance(self):\n",
    "        return self.balance\n",
    "    \n",
    "    def withdraw(self, amount):\n",
    "        self.balance -= amount\n",
    "        \n",
    "    def deposit(self, amount):\n",
    "        self.balance += amount"
   ]
  },
  {
   "cell_type": "code",
   "execution_count": 21,
   "metadata": {},
   "outputs": [],
   "source": [
    "#60 원둘레, 원넓이를 계산하는 클래스\n",
    "class Circle():\n",
    "    pi = 3.14\n",
    "    def __init__(self, radius = 3):\n",
    "        self.radius = radius\n",
    "        \n",
    "    def set(self, radius):\n",
    "        if type(radius) == int:\n",
    "            self.radius = radius\n",
    "    \n",
    "    def Circumference(self):\n",
    "        return 2 * Circle().pi * self.radius\n",
    "    \n",
    "    def Circlewidth(self):\n",
    "        return (self.radius ** 2) * Circle.pi"
   ]
  }
 ],
 "metadata": {
  "kernelspec": {
   "display_name": "Python 3",
   "language": "python",
   "name": "python3"
  },
  "language_info": {
   "codemirror_mode": {
    "name": "ipython",
    "version": 3
   },
   "file_extension": ".py",
   "mimetype": "text/x-python",
   "name": "python",
   "nbconvert_exporter": "python",
   "pygments_lexer": "ipython3",
   "version": "3.7.4"
  }
 },
 "nbformat": 4,
 "nbformat_minor": 2
}
