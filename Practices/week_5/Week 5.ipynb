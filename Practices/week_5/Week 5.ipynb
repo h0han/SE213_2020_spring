{
 "cells": [
  {
   "cell_type": "code",
   "execution_count": 4,
   "metadata": {},
   "outputs": [
    {
     "name": "stdout",
     "output_type": "stream",
     "text": [
      "1 2 3 4 5 6 7 8 9\n",
      "2 4 6 8 10 12 14 16 18\n",
      "3 6 9 12 15 18 21 24 27\n",
      "4 8 12 16 20 24 28 32 36\n",
      "5 10 15 20 25 30 35 40 45\n",
      "6 12 18 24 30 36 42 48 54\n",
      "7 14 21 28 35 42 49 56 63\n",
      "8 16 24 32 40 48 56 64 72\n",
      "9 18 27 36 45 54 63 72 81\n"
     ]
    }
   ],
   "source": [
    "#구구단 함수 작성(중첩 반복문)\n",
    "def print_multiplication_table():\n",
    "    arr = []\n",
    "    for i in range(1, 10):\n",
    "        arr.append(i)\n",
    "        for j in arr:\n",
    "            if j == max(arr):\n",
    "                print(1*j, 2*j, 3*j, 4*j, 5*j, 6*j, 7*j, 8*j, 9*j, sep = ' ', end = '\\n')\n",
    "            \n",
    "print_multiplication_table() "
   ]
  },
  {
   "cell_type": "code",
   "execution_count": 12,
   "metadata": {},
   "outputs": [
    {
     "name": "stdout",
     "output_type": "stream",
     "text": [
      "11\n",
      "6\n"
     ]
    }
   ],
   "source": [
    "#Accumulator\n",
    "def acc_list(lst, elm):\n",
    "    if elm == None:\n",
    "        return sum(lst)\n",
    "    else:\n",
    "        if elm not in lst:\n",
    "            return sum(lst)\n",
    "        else:\n",
    "            k = lst.index(elm)\n",
    "            num = 0\n",
    "            for l in range(0, k):\n",
    "                num += lst[l]\n",
    "            return num\n",
    "    \n",
    "v1 = [1,4,1,5]\n",
    "print(acc_list(v1, None))\n",
    "print(acc_list(v1, 5))"
   ]
  },
  {
   "cell_type": "code",
   "execution_count": 32,
   "metadata": {},
   "outputs": [
    {
     "name": "stdout",
     "output_type": "stream",
     "text": [
      "2\n",
      "11\n",
      "operating systems\n"
     ]
    }
   ],
   "source": [
    "#min-max 구하기\n",
    "def minmax(lst):\n",
    "    arr = []\n",
    "    for i in range(0, len(lst)):\n",
    "        max_num = max(lst[i])\n",
    "        arr.append(max_num)\n",
    "    k = min(arr)\n",
    "    return k\n",
    "\n",
    "example1 = [[1, 2], [3, 4], [5, 6]]\n",
    "example2 = [[42, 1024, 23], [6, 28, 496], [2, 3, 5, 7, 11]]\n",
    "example3 = [['programming', 'linear algebra'],\n",
    "            ['operating systems', 'computer architecture']]\n",
    "print(minmax(example1))\n",
    "print(minmax(example2))\n",
    "print(minmax(example3))"
   ]
  },
  {
   "cell_type": "code",
   "execution_count": 59,
   "metadata": {},
   "outputs": [
    {
     "name": "stdout",
     "output_type": "stream",
     "text": [
      "2 4 [20, 94] [5, 31, 39, 61]\n",
      "5 5 [2, 4, 6, 8, 10] [1, 3, 5, 7, 9]\n"
     ]
    }
   ],
   "source": [
    "#리스트에서 짝수 홀수 구분하기\n",
    "def list_even_odd(original_list):\n",
    "    even_list = []\n",
    "    odd_list = []\n",
    "    for i in range(0, len(original_list)):\n",
    "        if int(original_list[i]) % 2 == 0:\n",
    "            even_list.append(original_list[i])\n",
    "        else:\n",
    "            odd_list.append(original_list[i])\n",
    "    even_count = len(even_list)\n",
    "    odd_count = len(odd_list)\n",
    "    return(int(even_count), int(odd_count), sorted(even_list), sorted(odd_list))\n",
    "\n",
    "lst = [20, 5, 31, 94, 61, 39]\n",
    "even_count, odd_count, even_list, odd_list = list_even_odd(lst)\n",
    "print(even_count, odd_count, even_list, odd_list)\n",
    "lst = [ 1, 2, 3, 4, 5, 6, 7, 8, 9, 10]\n",
    "even_count, odd_count, even_list, odd_list = list_even_odd(lst)\n",
    "print(even_count, odd_count, even_list, odd_list)"
   ]
  },
  {
   "cell_type": "code",
   "execution_count": 100,
   "metadata": {},
   "outputs": [
    {
     "name": "stdout",
     "output_type": "stream",
     "text": [
      "['gray', 'goat']\n"
     ]
    },
    {
     "data": {
      "text/plain": [
       "['apple', 'bear', 'book', 'cap', 'doctor', 'goat', 'gray', 'pink', 'purple']"
      ]
     },
     "execution_count": 100,
     "metadata": {},
     "output_type": "execute_result"
    }
   ],
   "source": [
    "#사전\n",
    "def search(alphabet, word_list):\n",
    "    arr = []\n",
    "    for n in range(0, len(word_list)):\n",
    "        if alphabet == word_list[n][0]:\n",
    "            arr.append(word_list[n])\n",
    "    return print(arr)\n",
    "\n",
    "def dictionary(word_list):\n",
    "    print(sorted(word_list))\n",
    "\n",
    "example = ['cap','gray','bear','book','pink','purple','apple','goat','doctor']\n",
    "search('g',example)\n",
    "dictionary(example)"
   ]
  },
  {
   "cell_type": "code",
   "execution_count": 85,
   "metadata": {},
   "outputs": [
    {
     "name": "stdout",
     "output_type": "stream",
     "text": [
      "None\n",
      "3\n",
      "2.5\n"
     ]
    }
   ],
   "source": [
    "#Median 구하기\n",
    "def find_median(lst):\n",
    "    if len(lst) == 0:\n",
    "        return None\n",
    "    elif len(lst) % 2 == 1:\n",
    "        return lst[int((len(lst)+1)/2)-1]\n",
    "    elif len(lst) % 2 == 0:\n",
    "        return float((lst[int(len(lst)/2)-1]+lst[(int(len(lst)/2))])/2)\n",
    "    \n",
    "print(find_median([ ]))\n",
    "print(find_median([1, 4, 3, 2, 5]))\n",
    "print(find_median([1, 2, 3, 4]))"
   ]
  }
 ],
 "metadata": {
  "kernelspec": {
   "display_name": "Python 3",
   "language": "python",
   "name": "python3"
  },
  "language_info": {
   "codemirror_mode": {
    "name": "ipython",
    "version": 3
   },
   "file_extension": ".py",
   "mimetype": "text/x-python",
   "name": "python",
   "nbconvert_exporter": "python",
   "pygments_lexer": "ipython3",
   "version": "3.7.4"
  }
 },
 "nbformat": 4,
 "nbformat_minor": 2
}
