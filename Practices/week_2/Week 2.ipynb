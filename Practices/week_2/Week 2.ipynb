{
 "cells": [
  {
   "cell_type": "code",
   "execution_count": 21,
   "metadata": {},
   "outputs": [
    {
     "name": "stdout",
     "output_type": "stream",
     "text": [
      "Enter an integer number: 9\n",
      "9 is divisible by 3.\n"
     ]
    }
   ],
   "source": [
    "n = int(input(\"Enter an integer number: \", ))\n",
    "if n%2 ==0 and n%3 == 0:\n",
    "    print(n, \"is divisible by 2.\")\n",
    "    print(n, \"is divisible by 3.\")\n",
    "elif n%2 == 0:\n",
    "    print(n, \"is divisible by 2.\")\n",
    "elif n%3 == 0:\n",
    "    print(n, \"is divisible by 3.\")\n",
    "else:\n",
    "    print(n, \"is not divisible by 2 or 3.\")"
   ]
  },
  {
   "cell_type": "code",
   "execution_count": 1,
   "metadata": {},
   "outputs": [
    {
     "name": "stdout",
     "output_type": "stream",
     "text": [
      "Enter an integer number: 1\n",
      "1 is not divisible by 2 or 3.\n"
     ]
    }
   ],
   "source": [
    "n = int(input(\"Enter an integer number: \", ))\n",
    "if n%2 ==0 and n%3 == 0:\n",
    "    print(n, \"is divisible by 2.\")\n",
    "    print(n, \"is divisible by 3.\")\n",
    "elif n%2 == 0:\n",
    "    print(n, \"is divisible by 2.\")\n",
    "elif n%3 == 0:\n",
    "    print(n, \"is divisible by 3.\")\n",
    "else:\n",
    "    print(n, \"is not divisible by 2 or 3.\")"
   ]
  },
  {
   "cell_type": "code",
   "execution_count": 26,
   "metadata": {},
   "outputs": [
    {
     "name": "stdout",
     "output_type": "stream",
     "text": [
      "Enter a degree: 50\n",
      "Enter the kind of temperature scale: cc\n",
      "Error in the kind of temperature scale!\n"
     ]
    }
   ],
   "source": [
    "deg = float(input('Enter a degree: ', ))\n",
    "kind = str(input('Enter the kind of temperature scale: ', ))\n",
    "if kind == 'c' or kind == 'C':\n",
    "    print(deg*9/5+32)\n",
    "elif kind =='f' or kind == \"F\":\n",
    "    print((deg-32)*5/9)\n",
    "else:\n",
    "    print('Error in the kind of temperature scale!')"
   ]
  },
  {
   "cell_type": "code",
   "execution_count": 32,
   "metadata": {},
   "outputs": [
    {
     "name": "stdout",
     "output_type": "stream",
     "text": [
      "Enter a random seed: 1\n",
      "Enter n: 1\n",
      "0 0 0 0\n"
     ]
    }
   ],
   "source": [
    "import random\n",
    "\n",
    "RS = int(input('Enter a random seed: ', ))\n",
    "n = int(input('Enter n: ', ))\n",
    "a = random.randrange(n)\n",
    "b = random.randrange(n)\n",
    "c = random.randrange(n)\n",
    "print(a, b, c, a+b+c)"
   ]
  },
  {
   "cell_type": "code",
   "execution_count": 35,
   "metadata": {},
   "outputs": [
    {
     "name": "stdout",
     "output_type": "stream",
     "text": [
      "Enter your score: 65\n",
      "Your grade is F\n"
     ]
    }
   ],
   "source": [
    "score = int(input('Enter your score: ', ))\n",
    "if score >= 90 and score <=100:\n",
    "    print('Your grade is A+')\n",
    "elif score >= 80:\n",
    "    print('Your grade is B+')\n",
    "elif score >= 70:\n",
    "    print('Your grade is C+')\n",
    "else:\n",
    "    print('Your grade is F')"
   ]
  },
  {
   "cell_type": "code",
   "execution_count": 39,
   "metadata": {},
   "outputs": [
    {
     "name": "stdout",
     "output_type": "stream",
     "text": [
      "Enter your gender: m\n",
      "You are a man.\n"
     ]
    }
   ],
   "source": [
    "gender = str(input('Enter your gender: ', ))\n",
    "if gender == 'f' or gender == 'F':\n",
    "    print('You are a woman.')\n",
    "elif gender == 'm' or gender == 'M':\n",
    "    print('You are a man.')\n",
    "else:\n",
    "    print('Error!')"
   ]
  },
  {
   "cell_type": "code",
   "execution_count": 41,
   "metadata": {},
   "outputs": [
    {
     "name": "stdout",
     "output_type": "stream",
     "text": [
      "Enter a left operand: 1\n",
      "Enter an operator: 2\n",
      "Enter a right operand: 2\n"
     ]
    }
   ],
   "source": [
    "opr1 = float(input('Enter a left operand: ', ))\n",
    "op = str(input('Enter an operator: ', ))\n",
    "opr2 = float(input('Enter a right operand: ', ))\n",
    "if op == '+':\n",
    "    print(opr1 + opr2)\n",
    "elif op == '-':\n",
    "    print(opr1 - opr2)\n",
    "elif op == '*':\n",
    "    print(opr1*opr2)\n",
    "elif op == '/':\n",
    "    print(opr1/opr2)"
   ]
  },
  {
   "cell_type": "code",
   "execution_count": 43,
   "metadata": {},
   "outputs": [
    {
     "name": "stdout",
     "output_type": "stream",
     "text": [
      "Enter a day: Mon\n",
      "Number of Mon in March: 5days\n"
     ]
    }
   ],
   "source": [
    "day = str(input('Enter a day: ', ))\n",
    "if day == 'Sun':\n",
    "    print('Number of Sun in March: 5days')\n",
    "elif day == 'Mon':\n",
    "    print('Number of Mon in March: 5days')\n",
    "elif day == 'Tue':\n",
    "    print('Number of Tue in March: 5days')\n",
    "elif day == 'Wed':\n",
    "    print('Number of Wed in March: 4days')\n",
    "elif day == 'Thu':\n",
    "    print('Number of Thu in March: 4days')\n",
    "elif day == 'Fri':\n",
    "    print('Number of Fri in March: 4days')\n",
    "elif day == 'Sat':\n",
    "    print('Number of Sat in March: 4days')\n",
    "else:\n",
    "    print('You entered a wrong day')"
   ]
  },
  {
   "cell_type": "code",
   "execution_count": 48,
   "metadata": {},
   "outputs": [
    {
     "name": "stdout",
     "output_type": "stream",
     "text": [
      "Enter the year: 2018\n",
      "This year is not a leap year\n"
     ]
    }
   ],
   "source": [
    "year = int(input('Enter the year: ', ))\n",
    "if year%400 == 0:\n",
    "    print('This year is a leap year.')\n",
    "elif year%100 == 0:\n",
    "    print('This year is not a leap year.')\n",
    "elif year%4 == 0:\n",
    "    print('This year is a leap year.')\n",
    "else:\n",
    "    print('This year is not a leap year')"
   ]
  },
  {
   "cell_type": "code",
   "execution_count": 65,
   "metadata": {},
   "outputs": [
    {
     "name": "stdout",
     "output_type": "stream",
     "text": [
      "Enter amount to deposit/withdraw: -10000\n",
      "Your account balance is  0\n"
     ]
    }
   ],
   "source": [
    "a = 10000\n",
    "b = str(input('Enter amount to deposit/withdraw: ', ))\n",
    "if '+' in b:\n",
    "    print('Your account balance is ',a + int(b))\n",
    "elif '-' in b:\n",
    "    if a+int(b) < 0:\n",
    "        print('There is not enough money in your account.')\n",
    "    else:\n",
    "        print('Your account balance is ',a + int(b))\n",
    "    "
   ]
  },
  {
   "cell_type": "code",
   "execution_count": 4,
   "metadata": {},
   "outputs": [
    {
     "name": "stdout",
     "output_type": "stream",
     "text": [
      "Enter the length of a side(b) of the right triangle: 1\n",
      "Enter the degree of the angle(BAC): 45\n",
      "1.414213562373095\n"
     ]
    }
   ],
   "source": [
    "import math\n",
    "\n",
    "length = float(input('Enter the length of a side(b) of the right triangle: ', ))\n",
    "angle = float(input('Enter the degree of the angle(BAC): ', ))\n",
    "a = math.radians(angle)\n",
    "b = math.cos(a)\n",
    "if length <= 0:\n",
    "    print('Incorrect input')\n",
    "elif angle <= 0 or angle >= 90:\n",
    "    print('Incorrect input')\n",
    "else:\n",
    "    print(length/b)\n",
    "    "
   ]
  },
  {
   "cell_type": "code",
   "execution_count": 15,
   "metadata": {},
   "outputs": [
    {
     "name": "stdout",
     "output_type": "stream",
     "text": [
      "3\n",
      "-1\n",
      "30\n",
      "0.5\n",
      "None\n"
     ]
    }
   ],
   "source": [
    "def calculate_digits(left_operand, right_operand, oprator):\n",
    "    if oprator == '+':\n",
    "        return left_operand + right_operand\n",
    "    elif oprator == '-':\n",
    "        return left_operand - right_operand\n",
    "    elif oprator == '*':\n",
    "        return left_operand*right_operand\n",
    "    elif oprator == '/':\n",
    "        return left_operand/right_operand\n",
    "    elif oprator != '+' or oprator != '-' or oprator != '*' or oprator != '/':\n",
    "        return None\n",
    "    \n",
    "print(calculate_digits(1, 2, '+'))\n",
    "print(calculate_digits(3, 4, '-'))\n",
    "print(calculate_digits(5, 6, '*'))\n",
    "print(calculate_digits(7, 14, '/'))\n",
    "print(calculate_digits(9, 10, '%'))"
   ]
  },
  {
   "cell_type": "code",
   "execution_count": null,
   "metadata": {},
   "outputs": [],
   "source": []
  }
 ],
 "metadata": {
  "kernelspec": {
   "display_name": "Python 3",
   "language": "python",
   "name": "python3"
  },
  "language_info": {
   "codemirror_mode": {
    "name": "ipython",
    "version": 3
   },
   "file_extension": ".py",
   "mimetype": "text/x-python",
   "name": "python",
   "nbconvert_exporter": "python",
   "pygments_lexer": "ipython3",
   "version": "3.7.4"
  }
 },
 "nbformat": 4,
 "nbformat_minor": 2
}
