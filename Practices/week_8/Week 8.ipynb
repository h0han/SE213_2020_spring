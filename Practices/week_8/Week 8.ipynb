{
 "cells": [
  {
   "cell_type": "code",
   "execution_count": 25,
   "metadata": {},
   "outputs": [
    {
     "name": "stdout",
     "output_type": "stream",
     "text": [
      "True\n"
     ]
    }
   ],
   "source": [
    "#52 순환하는 소수\n",
    "def circular(n):\n",
    "    arr = [str(n)]\n",
    "    for i in range(len(str(n))-1):\n",
    "        arr.append(arr[i][1:len(str(n))] + arr[i][0])\n",
    "    \n",
    "    for j in range(len(arr)):\n",
    "        arr[j] = int(arr[j])\n",
    "    return arr\n",
    "\n",
    "def prime(n):\n",
    "    cnt = 0\n",
    "    for k in range(1, n+1):\n",
    "        if n % k == 0:\n",
    "            cnt += 1\n",
    "    return cnt == 2\n",
    "\n",
    "def circular_prime(n):\n",
    "    cnt_prime = 0\n",
    "    for numb in circular(n):\n",
    "        if prime(numb) == True:\n",
    "            cnt_prime += 1\n",
    "    return cnt_prime == len(circular(n))"
   ]
  },
  {
   "cell_type": "code",
   "execution_count": 79,
   "metadata": {},
   "outputs": [
    {
     "name": "stdout",
     "output_type": "stream",
     "text": [
      "['dog', 'cat', 'panda']\n",
      "car\n",
      "This word already exists.\n",
      "['animal', 'snack', 'beverage', 'city', 'vehicle']\n",
      "apple\n",
      "['cookie', 'biscuit']\n"
     ]
    }
   ],
   "source": [
    "#53 사전 수정하기\n",
    "def add_to_dict(dic, key, val, act=0):\n",
    "    \n",
    "    if act == 0:\n",
    "        if key in list(dic.keys()):\n",
    "            if val in dic[key]:\n",
    "                return 'This word already exists.'\n",
    "            else:\n",
    "                dic[key].append(val)\n",
    "                return dic[key]\n",
    "        else:\n",
    "            dic[key] = val\n",
    "        return dic[key]\n",
    "        \n",
    "    elif act == 1:\n",
    "        dic[key].remove(val)\n",
    "        return dic[key]\n",
    "    \n",
    "    elif act == 2:\n",
    "        del(dic[key])\n",
    "        return list(dic.keys())\n",
    "    \n",
    "# dictionary = {'fruit': ['apple', 'banana', 'pineapple', 'melon', 'kiwi'],\n",
    "#   'animal':['dog','cat'],\n",
    "#   'snack': ['cookie','biscuit','sable'],\n",
    "#   'beverage':['juice','coffee','wine'],\n",
    "#   'city':['Daegu','Seoul','Busan']}\n",
    "# print(add_to_dict(dictionary,'animal','panda'))\n",
    "# print(add_to_dict(dictionary,'vehicle','car',0))\n",
    "# print(add_to_dict(dictionary,'fruit','apple'))\n",
    "# print(add_to_dict(dictionary,'fruit','kiwi',2))\n",
    "# print(add_to_dict(dictionary,'fruit','apple'))\n",
    "# print(add_to_dict(dictionary,'snack','sable',1))"
   ]
  },
  {
   "cell_type": "code",
   "execution_count": 10,
   "metadata": {},
   "outputs": [],
   "source": [
    "#54 학생관리 시스템\n",
    "def is_valid(st_list, SN):\n",
    "    for st in st_list:\n",
    "        if st['SN'] == SN:\n",
    "            return True\n",
    "    return False\n",
    "\n",
    "def manage_students(st_list):\n",
    "    st_list = []\n",
    "    option = int(input('[1] Insert      [2] Modify      [3] Delete      [0] Exit: ', ))\n",
    "    while option != 0:\n",
    "        if option == 1:\n",
    "            i_SN = int(input('[Insert] Student number: '))\n",
    "            i_name = input('[Insert] Name: ')\n",
    "            i_major = input('[Insert] Major: ')\n",
    "            tmp = {'SN':i_SN, 'name':i_name, 'major':i_major}\n",
    "            insert(st_list, tmp)\n",
    "        elif option == 2:\n",
    "            modi_SN = int(input('[Modify] Student number: '))\n",
    "            modi_major = input('[Modify] Major: ')\n",
    "            modify_major(st_list, modi_SN, modi_major)\n",
    "        elif option == 3:\n",
    "            del_SN = int(input('[Delete] Student number: '))\n",
    "            delete(st_list, del_SN)\n",
    "        else:\n",
    "            print('Invalid value.')\n",
    "        print(st_list)\n",
    "        break\n",
    "\n",
    "def insert(st_list, student):\n",
    "    cnt = 0\n",
    "    for st in st_list:\n",
    "        if st['SN'] == student['SN']:\n",
    "            cnt += 1\n",
    "    if cnt > 0:\n",
    "        print('[ERROR!!!] There is a student with the same SN.')\n",
    "    else:\n",
    "        st_list.append(student)\n",
    "        print(st_list[-1])\n",
    "        \n",
    "def modify_major(st_list, modi_SN, modi_major):\n",
    "    cnt = 0\n",
    "    for st in st_list:\n",
    "        if st['SN'] == modi_SN:\n",
    "            cnt += 1\n",
    "            st['major'] = modi_major\n",
    "            print(st)\n",
    "    if cnt == 0:\n",
    "        print(f'[ERROR!!!] There is no student with SN {modi_SN}')\n",
    "    \n",
    "def delete(st_list, del_SN):\n",
    "    cnt = 0\n",
    "    for st in st_list:\n",
    "        if st['SN'] == del_SN:\n",
    "            cnt += 1\n",
    "            st_list.remove(st)\n",
    "    if cnt == 0:\n",
    "        print(f'[ERROR!!!] There is no student with SN {del_SN}')\n",
    "    else:\n",
    "        print(st_list)"
   ]
  },
  {
   "cell_type": "code",
   "execution_count": 11,
   "metadata": {},
   "outputs": [
    {
     "name": "stdout",
     "output_type": "stream",
     "text": [
      "[1] Insert      [2] Modify      [3] Delete      [0] Exit: 0\n"
     ]
    }
   ],
   "source": [
    "if __name__ == '__main__':\n",
    "    s1 = {'SN':1234, 'name':'Kim', 'major':'Computer'}\n",
    "    s2 = {'SN':5678, 'name':'Yoon', 'major':'Robot'}\n",
    "    s3 = {'SN':1004, 'name':'Lee', 'major':'English'}\n",
    "    s4 = {'SN':8282, 'name':'Park', 'major':'Math'}\n",
    "    students = [s1, s2, s3, s4]\n",
    "\n",
    "    manage_students(students)"
   ]
  },
  {
   "cell_type": "code",
   "execution_count": null,
   "metadata": {},
   "outputs": [],
   "source": []
  }
 ],
 "metadata": {
  "kernelspec": {
   "display_name": "Python 3",
   "language": "python",
   "name": "python3"
  },
  "language_info": {
   "codemirror_mode": {
    "name": "ipython",
    "version": 3
   },
   "file_extension": ".py",
   "mimetype": "text/x-python",
   "name": "python",
   "nbconvert_exporter": "python",
   "pygments_lexer": "ipython3",
   "version": "3.7.4"
  }
 },
 "nbformat": 4,
 "nbformat_minor": 2
}
