{
 "cells": [
  {
   "cell_type": "code",
   "execution_count": 44,
   "metadata": {},
   "outputs": [],
   "source": [
    "#43 리스트 두 개의 공통된 원소의 리스트를 반환하기\n",
    "def common_items(seq1, seq2, reverse = False):\n",
    "    if type(seq1) in [list, str, tuple] and type(seq2) in [list, str, tuple]:\n",
    "        arr = []\n",
    "        if reverse == False:\n",
    "            for char in seq1:\n",
    "                if char in seq2:\n",
    "                    arr.append(char)\n",
    "                arr = set(arr)\n",
    "                arr = list(arr)\n",
    "                arr = sorted(arr)\n",
    "            return arr\n",
    "        else:\n",
    "            rev_arr = []\n",
    "            for char in seq1:\n",
    "                if char in seq2:\n",
    "                    arr.append(char)\n",
    "                arr = set(arr)\n",
    "                arr = list(arr)\n",
    "            rarr = reversed(arr)\n",
    "            for rev_char in rarr:\n",
    "                rev_arr.append(rev_char)\n",
    "            return rev_arr"
   ]
  },
  {
   "cell_type": "code",
   "execution_count": 45,
   "metadata": {},
   "outputs": [
    {
     "name": "stdout",
     "output_type": "stream",
     "text": [
      "['a', 'r']\n",
      "[1, 2, 3]\n",
      "['r', 'a']\n",
      "[]\n",
      "[2, 3, 5]\n",
      "[2, 3, 5]\n",
      "[2, 3, 5]\n"
     ]
    }
   ],
   "source": [
    "print(common_items('abracadabra', 'surisurimasuri'))\n",
    "print(common_items((1, 2, 3, 4), (2, 3, 5, 3, 1)))\n",
    "print(common_items('abracadabra', 'surisurimasuri', True))\n",
    "print(common_items([42, 1024, 23], [6, 28, 496]))\n",
    "print(common_items([2, 3, 5, 7], [1, 1, 2, 3, 5, 8]))\n",
    "print(common_items([2, 3, 5, 7], [1, 1, 2, 3, 5, 8], False))\n",
    "print(common_items([2, 3, 5, 7], (1, 1, 2, 3, 5, 8)))"
   ]
  },
  {
   "cell_type": "code",
   "execution_count": 137,
   "metadata": {},
   "outputs": [],
   "source": [
    "#44 동명이인 학생 찾기\n",
    "def same_name(name_list):\n",
    "    dit = {}\n",
    "    name_arr = []\n",
    "    for i in range(len(name_list)):\n",
    "        dit[name_list[i]] = name_list\n",
    "    for name in dit.keys():\n",
    "        lst = list(dit.values())[0]\n",
    "        lst.remove(name)\n",
    "        del_lst = lst\n",
    "        if name in del_lst:\n",
    "            name_arr.append(str(name))\n",
    "    if len(name_arr) == 0:\n",
    "        return 'There is no student having the same name.'\n",
    "    else:\n",
    "        return name_arr"
   ]
  },
  {
   "cell_type": "code",
   "execution_count": 138,
   "metadata": {},
   "outputs": [
    {
     "name": "stdout",
     "output_type": "stream",
     "text": [
      "There is no student having the same name.\n",
      "['Bob', 'Tom']\n"
     ]
    }
   ],
   "source": [
    "list1=['Alice','Bob','Jane']\n",
    "list2=['Alice','Bob','Jane','Tom','Bob','Tom']\n",
    "print(same_name(list1))\n",
    "print(same_name(list2))"
   ]
  },
  {
   "cell_type": "code",
   "execution_count": 140,
   "metadata": {},
   "outputs": [],
   "source": [
    "#45 단어의 출현 횟수\n",
    "def dic(string):\n",
    "    arr = []\n",
    "    split_list = string.split(' ')\n",
    "    lst = set(split_list)\n",
    "    lst = list(lst)\n",
    "    for char in lst:\n",
    "        arr1 = []\n",
    "        cnt = split_list.count(char)\n",
    "        if cnt >= 2:\n",
    "            arr1.append(char)\n",
    "            arr1.append(cnt)\n",
    "            arr1 = tuple(arr1)\n",
    "            arr.append(arr1)\n",
    "    return arr"
   ]
  },
  {
   "cell_type": "code",
   "execution_count": 192,
   "metadata": {},
   "outputs": [],
   "source": [
    "#46 성적정리\n",
    "def print_scores(test_scores, course_titles, student_name):\n",
    "    if student_name not in test_scores.keys():\n",
    "        print('There is no student named ', student_name, '.', sep = '')\n",
    "    else:\n",
    "        lst = list(test_scores.keys())\n",
    "        for name in lst:\n",
    "            if student_name == name:\n",
    "                if len(course_titles) == len(test_scores[name]):\n",
    "                    print(name, ':', sep = '')\n",
    "                    for num in range(len(course_titles)):\n",
    "                        print('    ', course_titles[num], ': ', test_scores[name][num], sep = '')\n",
    "                    print('    Average: ', sum(test_scores[name])/len(test_scores[name]), sep = '')"
   ]
  },
  {
   "cell_type": "code",
   "execution_count": 193,
   "metadata": {
    "scrolled": true
   },
   "outputs": [
    {
     "name": "stdout",
     "output_type": "stream",
     "text": [
      "Alice:\n",
      "    Linear Algebra: 62\n",
      "    Cell Biology: 60\n",
      "    Programming: 77\n",
      "    Average: 66.33333333333333\n",
      "Oscar:\n",
      "    Linear Algebra: 67\n",
      "    Cell Biology: 63\n",
      "    Programming: 67\n",
      "    Average: 65.66666666666667\n",
      "There is no student named Emma.\n"
     ]
    }
   ],
   "source": [
    "\n",
    "course_titles = ['Linear Algebra', 'Cell Biology', 'Programming']\n",
    "midterm_scores = {\n",
    "    'Alice': [62, 60, 77],\n",
    "    'Bob': [84, 88, 87],\n",
    "    'Carol': [88, 88, 97],\n",
    "    'Chuck': [92, 71, 93],\n",
    "    'Craig': [81, 89, 72],\n",
    "    'Dan': [79, 100, 97],\n",
    "    'Erin': [76, 72, 65],\n",
    "    'Eve': [69, 84, 67],\n",
    "    'Faythe': [66, 60, 70],\n",
    "    'Frank': [88, 76, 64],\n",
    "    'Grace': [66, 77, 92],\n",
    "    'Heidi': [93, 93, 82],\n",
    "    'Mallory': [77, 89, 82],\n",
    "    'Oscar': [67, 63, 67],\n",
    "    'Peggy': [70, 81, 86],\n",
    "    'Sybil': [96, 94, 62],\n",
    "    'Trent': [67, 66, 61],\n",
    "    'Trudy': [85, 74, 90],\n",
    "    'Victor': [82, 67, 94],\n",
    "    'Walter': [67, 84, 86],\n",
    "    'Wendy': [97, 92, 66]\n",
    "}\n",
    "\n",
    "print_scores(midterm_scores, course_titles, 'Alice')\n",
    "print_scores(midterm_scores, course_titles, 'Oscar')\n",
    "print_scores(midterm_scores, course_titles, 'Emma')"
   ]
  },
  {
   "cell_type": "code",
   "execution_count": 4,
   "metadata": {},
   "outputs": [
    {
     "name": "stdout",
     "output_type": "stream",
     "text": [
      "Enter a name : 2\n",
      "Enter the phone number : 1\n",
      "{'홍길동': '010-1234-5678', '2': '1'}\n"
     ]
    }
   ],
   "source": [
    "#47 전화번호 추가\n",
    "def number_adder(num_list, name, num):\n",
    "    lst = list(num_list.keys())\n",
    "    string = 'hyhan is already in num_list.'\n",
    "    if name in lst:\n",
    "        return string.replace('hyhan', name)\n",
    "    else:\n",
    "        num_list[name] = num\n",
    "    return num_list\n",
    "\n",
    "number_list = {'홍길동': '010-1234-5678'}\n",
    "\n",
    "# if 구문을 지우지 마시오.\n",
    "if __name__ == '__main__':\n",
    "    name = input('Enter a name : ')\n",
    "    num = input('Enter the phone number : ')\n",
    "    print(number_adder(number_list, name, num))"
   ]
  },
  {
   "cell_type": "code",
   "execution_count": 209,
   "metadata": {},
   "outputs": [
    {
     "name": "stdout",
     "output_type": "stream",
     "text": [
      "{'a': 1, 'b': 2}\n"
     ]
    }
   ],
   "source": [
    "n = {}\n",
    "n['a'] = 1\n",
    "n['b'] = 2\n",
    "print(n)"
   ]
  }
 ],
 "metadata": {
  "kernelspec": {
   "display_name": "Python 3",
   "language": "python",
   "name": "python3"
  },
  "language_info": {
   "codemirror_mode": {
    "name": "ipython",
    "version": 3
   },
   "file_extension": ".py",
   "mimetype": "text/x-python",
   "name": "python",
   "nbconvert_exporter": "python",
   "pygments_lexer": "ipython3",
   "version": "3.7.4"
  }
 },
 "nbformat": 4,
 "nbformat_minor": 2
}
