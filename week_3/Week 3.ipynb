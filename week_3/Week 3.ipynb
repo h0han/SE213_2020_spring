{
 "cells": [
  {
   "cell_type": "code",
   "execution_count": 1,
   "metadata": {},
   "outputs": [
    {
     "name": "stdout",
     "output_type": "stream",
     "text": [
      "50.0\n",
      "10.0\n",
      "None\n"
     ]
    }
   ],
   "source": [
    "def convert_temperature(degree, degree_type = 'c' or 'f' or 'C' or 'F'):\n",
    "    if degree_type[0] == 'c' or degree_type[0] == 'C':\n",
    "        degree = float(degree*9/5+32)\n",
    "        return degree\n",
    "    elif degree_type[0] == 'f' or degree_type[0] == 'F':\n",
    "        degree = float((degree-32)*5/9)\n",
    "        return degree\n",
    "    else:\n",
    "        return None\n",
    "\n",
    "print(convert_temperature(10, 'c'))\n",
    "print(convert_temperature(50, 'F'))\n",
    "print(convert_temperature(50, 't'))"
   ]
  },
  {
   "cell_type": "code",
   "execution_count": 2,
   "metadata": {},
   "outputs": [
    {
     "name": "stdout",
     "output_type": "stream",
     "text": [
      "3  6  9  12  15  18  21  24  27  \n",
      "5  10  15  20  25  30  35  40  45  \n",
      "Don't torture me!!!\n",
      "1  2  3  4  5  6  7  8  9  \n",
      "2  4  6  8  10  12  14  16  18  \n",
      "3  6  9  12  15  18  21  24  27  \n",
      "4  8  12  16  20  24  28  32  36  \n",
      "5  10  15  20  25  30  35  40  45  \n",
      "6  12  18  24  30  36  42  48  54  \n",
      "7  14  21  28  35  42  49  56  63  \n",
      "8  16  24  32  40  48  56  64  72  \n",
      "9  18  27  36  45  54  63  72  81  \n"
     ]
    }
   ],
   "source": [
    "def print_multiples(n):\n",
    "    if n >= 1 and n <= 9:\n",
    "        print(n, 2*n, 3*n, 4*n, 5*n, 6*n, 7*n, 8*n, 9*n, sep = '  ', end = '  \\n')\n",
    "    else:\n",
    "        print(\"Don't torture me!!!\")\n",
    "        \n",
    "def print_multiplication_table():\n",
    "    arr = [1, 3, 5, 7, 9]\n",
    "    for n in arr:\n",
    "        print_multiples(n)\n",
    "        if n < 9:\n",
    "            n += 1\n",
    "            print_multiples(n)\n",
    "        \n",
    "print_multiples(3)\n",
    "print_multiples(5)\n",
    "print_multiples(-1)\n",
    "print_multiplication_table()"
   ]
  },
  {
   "cell_type": "code",
   "execution_count": 1,
   "metadata": {},
   "outputs": [
    {
     "name": "stdout",
     "output_type": "stream",
     "text": [
      "6.283185307179586 3.141592653589793\n",
      "18.84955592153876 28.274333882308138\n",
      "43.982297150257104\n",
      "3.141592653589793\n"
     ]
    }
   ],
   "source": [
    "import math\n",
    "\n",
    "def area(r):\n",
    "    return math.pi*r**2\n",
    "\n",
    "def circumference(r):\n",
    "    return 2*math.pi*r\n",
    "\n",
    "def sum_of_areas(*radius):\n",
    "    sum = 0\n",
    "    for r in radius:\n",
    "        sum += area(r)\n",
    "    return sum\n",
    "\n",
    "\n",
    "r = 1.0\n",
    "print(circumference(r), area(r))\n",
    "r = 3.0\n",
    "print(circumference(r), area(r))\n",
    "print(sum_of_areas(1, 2, 3))\n",
    "print(sum_of_areas(1))"
   ]
  },
  {
   "cell_type": "code",
   "execution_count": 77,
   "metadata": {},
   "outputs": [
    {
     "name": "stdout",
     "output_type": "stream",
     "text": [
      "3.141592653589793\n"
     ]
    }
   ],
   "source": [
    "def sorting(a, b, c):\n",
    "    a = int(input('Enter 1st integer: ', ))\n",
    "    b = int(input('Enter 2nd integer: ', ))\n",
    "    c = int(input('Enter 3rd integer: ', ))\n",
    "    \n",
    "    i = 0\n",
    "    for i in num:\n",
    "        if num[i] < num{i+1}:\n",
    "            buf = num[i]\n",
    "            num[i] = num[i+1]\n",
    "            num[i+1] = buf\n",
    "            i += 1\n",
    "        else:\n",
    "            "
   ]
  },
  {
   "cell_type": "code",
   "execution_count": 25,
   "metadata": {},
   "outputs": [
    {
     "name": "stdout",
     "output_type": "stream",
     "text": [
      "Enter 1st integer: 20\n",
      "Enter 2nd integer: 30\n",
      "Enter 3rd integer: 10\n",
      "20 30 10\n"
     ]
    }
   ],
   "source": [
    "def sorting():\n",
    "    a = int(input('Enter 1st integer: ', ))\n",
    "    b = int(input('Enter 2nd integer: ', ))\n",
    "    c = int(input('Enter 3rd integer: ', ))\n",
    "    arr = [a, b, c]\n",
    "    j = 0\n",
    "    i = j+1\n",
    "    for num in range(j, 2):\n",
    "        for num in range(i, 1):\n",
    "            if arr[i] > arr[i+1]:\n",
    "                buf = arr[i]\n",
    "                arr[i] = arr[i+1]\n",
    "                arr[i+1] = buf\n",
    "                i += 1\n",
    "            else:\n",
    "                arr[i] = arr[i]\n",
    "                arr[i+1] = arr[i+1]\n",
    "                i += 1\n",
    "    print(arr[0], arr[1], arr[2])\n",
    "\n",
    "sorting()"
   ]
  },
  {
   "cell_type": "code",
   "execution_count": 1,
   "metadata": {
    "scrolled": true
   },
   "outputs": [
    {
     "name": "stdout",
     "output_type": "stream",
     "text": [
      "[2, 1, 3]\n"
     ]
    }
   ],
   "source": [
    "arr = [2, 3, 1]\n",
    "i = 0\n",
    "j = i+1\n",
    "for num in range(i, 2):\n",
    "    if arr[i] > arr[i+1]:\n",
    "        buf = arr[i]\n",
    "        arr[i] = arr[i+1]\n",
    "        arr[i+1] = buf\n",
    "        i += 1\n",
    "    else:\n",
    "        arr[i] = arr[i]\n",
    "        arr[i+1] = arr[i+1]\n",
    "        i += 1\n",
    "\n",
    "print(arr)"
   ]
  },
  {
   "cell_type": "code",
   "execution_count": 31,
   "metadata": {},
   "outputs": [
    {
     "name": "stdout",
     "output_type": "stream",
     "text": [
      "10 20 30\n"
     ]
    }
   ],
   "source": [
    "def sorting(n1, n2, n3):\n",
    "    a = int(n1)\n",
    "    b = int(n2)\n",
    "    c = int(n3)\n",
    "    arr = [a, b, c]\n",
    "    if arr[1] > arr[2]:\n",
    "        arr[1] = c\n",
    "        arr[2] = b\n",
    "        if arr[0] > arr[1] and arr[0] < arr[2]:\n",
    "            arr[0] = arr[1]\n",
    "            arr[1] = a\n",
    "        elif arr[0] > arr[2]:\n",
    "            arr[0] = arr[1]\n",
    "            arr[1] = arr[2]\n",
    "            arr[2] = a\n",
    "    else:\n",
    "        if arr[0] > arr[1] and arr[0] < arr[2]:\n",
    "            arr[0] = arr[1]\n",
    "            arr[1] = a\n",
    "        elif arr[0] > arr[2]:\n",
    "            arr[0] = arr[1]\n",
    "            arr[1] = arr[2]\n",
    "            arr[2] = a \n",
    "    print(arr[0], arr[1], arr[2])\n",
    "\n",
    "sorting(20, 10, 30)"
   ]
  },
  {
   "cell_type": "code",
   "execution_count": 12,
   "metadata": {},
   "outputs": [
    {
     "name": "stdout",
     "output_type": "stream",
     "text": [
      "50.0\n",
      "50.0\n",
      "10.0\n",
      "None\n"
     ]
    }
   ],
   "source": [
    "def convert_temperature(degree, degree_type=\"c\"):\n",
    "    if degree_type.lower()==\"c\":\n",
    "        return degree*1.8+32\n",
    "    elif degree_type.lower()==\"f\":\n",
    "        return (degree-32)/1.8\n",
    "    else:\n",
    "        return None\n",
    "\n",
    "print(convert_temperature(10, 'c'))\n",
    "print(convert_temperature(10))\n",
    "print(convert_temperature(50, 'F'))\n",
    "print(convert_temperature(50, 't'))"
   ]
  },
  {
   "cell_type": "code",
   "execution_count": 27,
   "metadata": {},
   "outputs": [
    {
     "name": "stdout",
     "output_type": "stream",
     "text": [
      "There is not enough money in your account\n",
      "5000\n",
      "ERROR\n",
      "6000\n"
     ]
    }
   ],
   "source": [
    "def manage_account(balance, choice, money):\n",
    "    a = balance\n",
    "    if choice == '-':\n",
    "        if balance - money < 0:\n",
    "            print(\"There is not enough money in your account\")\n",
    "            return a\n",
    "        else:\n",
    "            print(balance-money)\n",
    "            a -= money\n",
    "            return a\n",
    "    elif choice == '+':\n",
    "        a += money\n",
    "        print(balance+money)\n",
    "        return a\n",
    "    elif choice != '+' or choice != '-':\n",
    "        print(\"ERROR\")\n",
    "        return a\n",
    "        \n",
    "balance = 10000    \n",
    "balance = manage_account(balance, '-', 20000)\n",
    "balance = manage_account(balance, '-', 5000)\n",
    "balance = manage_account(balance, '=', 20000)\n",
    "balance = manage_account(balance, '+', 1000)           \n",
    "        \n",
    "        "
   ]
  },
  {
   "cell_type": "code",
   "execution_count": 14,
   "metadata": {},
   "outputs": [
    {
     "name": "stdout",
     "output_type": "stream",
     "text": [
      "3\n",
      "-1\n",
      "30\n",
      "0.5\n",
      "None\n"
     ]
    }
   ],
   "source": [
    "def calculate_digits(left_operand, right_operand, oprator):\n",
    "    if oprator == '+':\n",
    "        return left_operand + right_operand\n",
    "    elif oprator == '-':\n",
    "        return left_operand - right_operand\n",
    "    elif oprator == '*':\n",
    "        return left_operand*right_operand\n",
    "    elif oprator == '/':\n",
    "        return left_operand/right_operand\n",
    "    elif oprator != '+' or oprator != '-' or oprator != '*' or oprator != '/':\n",
    "        return None\n",
    "    \n",
    "print(calculate_digits(1, 2, '+'))\n",
    "print(calculate_digits(3, 4, '-'))\n",
    "print(calculate_digits(5, 6, '*'))\n",
    "print(calculate_digits(7, 14, '/'))\n",
    "print(calculate_digits(9, 10, '%'))"
   ]
  },
  {
   "cell_type": "code",
   "execution_count": 15,
   "metadata": {},
   "outputs": [
    {
     "ename": "SyntaxError",
     "evalue": "invalid syntax (<ipython-input-15-ed3ea0b5c457>, line 5)",
     "output_type": "error",
     "traceback": [
      "\u001b[1;36m  File \u001b[1;32m\"<ipython-input-15-ed3ea0b5c457>\"\u001b[1;36m, line \u001b[1;32m5\u001b[0m\n\u001b[1;33m    k{i} >\u001b[0m\n\u001b[1;37m     ^\u001b[0m\n\u001b[1;31mSyntaxError\u001b[0m\u001b[1;31m:\u001b[0m invalid syntax\n"
     ]
    }
   ],
   "source": [
    "def sorting(n1, n2, n3):\n",
    "    arr = [n1, n2, n3]\n",
    "    i = 0\n",
    "    for k in arr:\n",
    "        k{i} >"
   ]
  },
  {
   "cell_type": "code",
   "execution_count": 16,
   "metadata": {},
   "outputs": [
    {
     "name": "stdout",
     "output_type": "stream",
     "text": [
      "[11, 25, 12, 22, 64]\n",
      "[11, 12, 25, 22, 64]\n",
      "[11, 12, 22, 25, 64]\n",
      "[11, 12, 22, 25, 64]\n",
      "[11, 12, 22, 25, 64]\n"
     ]
    }
   ],
   "source": [
    "list1 = [64, 25, 12, 22, 11]\n",
    "for i in range(len(list1)):\n",
    "    buf = list1[i]\n",
    "    k = i\n",
    "    for j in range(i+1, len(list1)):\n",
    "        if list1[j] < buf:\n",
    "            buf = list1[j]\n",
    "            k = j\n",
    "    list1[k] = list1[i]\n",
    "    list1[i] = buf\n",
    "    print(list1)"
   ]
  },
  {
   "cell_type": "code",
   "execution_count": 1,
   "metadata": {},
   "outputs": [
    {
     "ename": "SyntaxError",
     "evalue": "invalid syntax (<ipython-input-1-c9a63f656ae6>, line 1)",
     "output_type": "error",
     "traceback": [
      "\u001b[1;36m  File \u001b[1;32m\"<ipython-input-1-c9a63f656ae6>\"\u001b[1;36m, line \u001b[1;32m1\u001b[0m\n\u001b[1;33m    def sorting\u001b[0m\n\u001b[1;37m               ^\u001b[0m\n\u001b[1;31mSyntaxError\u001b[0m\u001b[1;31m:\u001b[0m invalid syntax\n"
     ]
    }
   ],
   "source": [
    "def sorting(n1, n2, n3):\n",
    "    a = int(n1)\n",
    "    b = int(n2)\n",
    "    c = int(n3)\n",
    "    arr1 = [a, b, c]\n",
    "    buf1 = arr1[0]\n",
    "    if arr1[0] > arr1[1]:\n",
    "        arr1[0] = arr1[1]\n",
    "        arr1[1] = buf1\n",
    "        buf2 = arr1[1]\n",
    "        if arr1[2] < arr1[1]:\n",
    "            arr1[1] = arr[2]\n",
    "            arr1[1] = buf2\n",
    "        elif:\n",
    "            \n",
    "    else:\n",
    "        arr1[0] = arr1[0]\n",
    "        arr1[1] = arr1[1]        \n"
   ]
  },
  {
   "cell_type": "code",
   "execution_count": 4,
   "metadata": {},
   "outputs": [
    {
     "name": "stdout",
     "output_type": "stream",
     "text": [
      "3\n"
     ]
    }
   ],
   "source": []
  },
  {
   "cell_type": "code",
   "execution_count": null,
   "metadata": {},
   "outputs": [],
   "source": []
  }
 ],
 "metadata": {
  "kernelspec": {
   "display_name": "Python 3",
   "language": "python",
   "name": "python3"
  },
  "language_info": {
   "codemirror_mode": {
    "name": "ipython",
    "version": 3
   },
   "file_extension": ".py",
   "mimetype": "text/x-python",
   "name": "python",
   "nbconvert_exporter": "python",
   "pygments_lexer": "ipython3",
   "version": "3.7.4"
  }
 },
 "nbformat": 4,
 "nbformat_minor": 2
}
