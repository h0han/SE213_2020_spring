{
 "cells": [
  {
   "cell_type": "code",
   "execution_count": 7,
   "metadata": {},
   "outputs": [
    {
     "name": "stdout",
     "output_type": "stream",
     "text": [
      "[0, 1, 2, 4, 7]\n",
      "3\n",
      "[1, 4, 0, 2, 7]\n"
     ]
    }
   ],
   "source": [
    "# Quick sort 구현\n",
    "# partition 함수를 작성하시오.\n",
    "def partition(t, left, right):\n",
    "    pivot = t[left]\n",
    "    lm = left + 1\n",
    "    rm = right\n",
    "    while lm <= rm:\n",
    "        while lm <= rm and t[lm] <= pivot:\n",
    "            lm += 1\n",
    "        while rm >= lm and t[rm] >= pivot:\n",
    "            rm -= 1\n",
    "        if lm < rm:\n",
    "            t[lm], t[rm] = t[rm], t[lm]\n",
    "    t[left], t[rm] = t[rm], t[left]\n",
    "    return rm\n",
    "\n",
    "def quick_sort(t, left=None, right=None):\n",
    "    if left == None: left = 0\n",
    "    if right == None: right = len(t)-1\n",
    "\n",
    "    # base case\n",
    "    if left >= right:\n",
    "        return\n",
    "    elif left < right:\n",
    "        p = partition(t, left, right)\n",
    "        quick_sort(t, left, p - 1)\n",
    "        quick_sort(t, p + 1, right)\n",
    "    return t\n",
    "    # recursive case\n",
    "    # p: location(index) of pivot value\n",
    "\n",
    "        \n",
    "if __name__ == \"__main__\":\n",
    "    a = [1, 4, 2, 7, 0]\n",
    "    quick_sort(a)\n",
    "    print(a)\n",
    "\n",
    "    b = [1, 4, 2, 7, 0]\n",
    "    print(partition(b, 2, 4))\n",
    "    print(b)"
   ]
  },
  {
   "cell_type": "code",
   "execution_count": 74,
   "metadata": {},
   "outputs": [],
   "source": [
    "# 나만의 사전 만들기\n",
    "from urllib.request import urlopen\n",
    "import re\n",
    "def make_dictionary(doc):\n",
    "    dic = {}\n",
    "    lst = []\n",
    "    p = re.compile('[a-z]*')\n",
    "    rslt = p.findall(doc)\n",
    "    for char in rslt:\n",
    "        if len(char) > 1:\n",
    "            lst.append(char)\n",
    "    for wd in lst:\n",
    "        dic[wd] = dict_match(wd)\n",
    "    return dic\n",
    "\n",
    "def dict_match(wd):\n",
    "    with urlopen(f\"http://10.180.2.80/dict.html?query={wd}\") as u:\n",
    "        txt = u.read().decode(\"utf-8\")\n",
    "        txt = txt.replace('\\n', '')\n",
    "        txt = txt.replace('  ', '')\n",
    "        definition = ''\n",
    "        for word in txt:\n",
    "            if 'Definition' in word:\n",
    "                definition += word.strip().replace('<tr><td>Definition: </td><td>', '')\n",
    "                index = txt.index(word)\n",
    "\n",
    "    return definition"
   ]
  },
  {
   "cell_type": "code",
   "execution_count": 75,
   "metadata": {},
   "outputs": [
    {
     "name": "stdout",
     "output_type": "stream",
     "text": [
      "{'first': 'Preceding all others of a series or kind; the ordinal of one; earliest; as, the first day of a month; the first year of a reign.', 'solve': 'To explain; to resolve; to unfold; to clear up (what is', 'the': 'See Thee.</td>', 'problem': 'A question proposed for solution; a matter stated for', 'then': 'At that time (referring to a time specified, either past or future).', 'write': 'To set down, as legible characters; to form the', 'code': 'A body of law, sanctioned by legislation, in which the rules'}\n"
     ]
    }
   ],
   "source": [
    "data = \"first, solve the problem. then, write the code.\"\n",
    "print(make_dictionary(data))"
   ]
  },
  {
   "cell_type": "code",
   "execution_count": 9,
   "metadata": {},
   "outputs": [
    {
     "name": "stdout",
     "output_type": "stream",
     "text": [
      "['first', '', '', 'solve', '', 'the', '', 'problem', '', '', 'then', '', '', 'write', '', 'the', '', 'code', '', '']\n",
      "['first', 'solve', 'the', 'problem', 'then', 'write', 'the', 'code']\n"
     ]
    }
   ],
   "source": [
    "import re\n",
    "a = 'first, solve the problem. then, write the code.'\n",
    "p = re.compile('[a-z]*')\n",
    "rslt = p.findall(a)\n",
    "print(rslt)\n",
    "lst = []\n",
    "for i in rslt:\n",
    "    if len(i) > 1:\n",
    "        lst.append(i)\n",
    "print(lst)"
   ]
  },
  {
   "cell_type": "code",
   "execution_count": 116,
   "metadata": {},
   "outputs": [
    {
     "name": "stdout",
     "output_type": "stream",
     "text": [
      "<!DOCTYPE html>\r",
      "<html lang=\"en\">\r",
      " <head>\r",
      "<meta charset=\"UTF-8\">\r",
      "<meta name=\"Generator\" content=\"EditPlus®\">\r",
      "<meta name=\"Author\" content=\"\">\r",
      "<meta name=\"Keywords\" content=\"\">\r",
      "<meta name=\"Description\" content=\"\">\r",
      "<title>English Dictionary</title>\t\t<link rel=\"stylesheet\" href=\"css/main.css\" />\r",
      " </head>\r",
      " <body>\r",
      " <h2>Dictionary</h2>\r",
      "<table><tr>\r",
      "<td width=30>Word: <td>Problem</tr>\r",
      "<tr><td>Type: <td>n.</tr>\r",
      "<tr><td>Definition: <td>A question proposed for solution; a matter stated for examination or proof; hence, a matter difficult of solution or settlement; a doubtful case; a question involving doubt.\r",
      "\r",
      "</tr>\r",
      "</table>\r",
      "\r",
      "\r",
      " </body>\r",
      "</html>\n"
     ]
    }
   ],
   "source": [
    "from urllib.request import urlopen\n",
    "import re\n",
    "with urlopen(\"http://10.180.2.80/dict.html?query=problem\") as u:\n",
    "    txt = u.read().decode(\"utf-8\")\n",
    "    txt = txt.replace('\\n', '')\n",
    "    txt = txt.replace('  ', '')\n",
    "    arr = []\n",
    "#     print(type(txt))\n",
    "    arr.append(txt)\n",
    "#     print(arr)\n",
    "for word in arr:\n",
    "    if 'Definition' in word:\n",
    "        word = word.strip().replace('</html>>Definition: <td>', '')\n",
    "        word = word.replace('</td>', '')\n",
    "        print(word)\n",
    "#             index = txt.index(word)\n",
    "#             if '</td>' in arr[index + 1]:\n",
    "#                 definition += ' '\n",
    "#                 definition += txt[index + 1].strip().replace('</td>', '')\n",
    "#     txt = re.findall('<tr><td>Definition: </td><td>[A-Za-z(). ]+', txt)\n",
    "#     print(txt)"
   ]
  },
  {
   "cell_type": "code",
   "execution_count": 35,
   "metadata": {},
   "outputs": [
    {
     "name": "stdout",
     "output_type": "stream",
     "text": [
      "['</td><td>The fleshy pome or fruit of a rosaceous tree (Pyrus malus) cultivated in numberless varieties in the temperate zones.</td>']\n"
     ]
    }
   ],
   "source": [
    "import re\n",
    "a = ' </td><td>The fleshy pome or fruit of a rosaceous tree (Pyrus malus) cultivated in numberless varieties in the temperate zones.</td>'\n",
    "a = re.findall('</td><td>[A-Za-z(). ]+</td>', a)\n",
    "print(a)"
   ]
  },
  {
   "cell_type": "code",
   "execution_count": 51,
   "metadata": {},
   "outputs": [
    {
     "name": "stdout",
     "output_type": "stream",
     "text": [
      "1\n"
     ]
    }
   ],
   "source": [
    "a = ['a', 'b']\n",
    "b = a.index('b')\n",
    "print(b)"
   ]
  },
  {
   "cell_type": "code",
   "execution_count": 89,
   "metadata": {},
   "outputs": [
    {
     "name": "stdout",
     "output_type": "stream",
     "text": [
      "['b']\n"
     ]
    }
   ],
   "source": [
    "lst = []\n",
    "b = 'b'\n",
    "a = lst.append(b)\n",
    "print(lst)"
   ]
  },
  {
   "cell_type": "code",
   "execution_count": null,
   "metadata": {},
   "outputs": [],
   "source": [
    "#3 미로 탈출\n",
    "import copy\n",
    "m0=[[0, 1, 1, 1, 1, 1, 1, 1, 1, 1, 1, 1, 1, 1 ],\n",
    "          [ 0, 0, 0, 0, 1, 0, 0, 0, 0, 0, 0, 0, 0, 1 ],\n",
    "          [ 1, 0, 1, 0, 1, 0, 1, 1, 1, 1, 0, 1, 0, 1 ],\n",
    "          [ 1, 0, 1, 0, 1, 0, 0, 0, 1, 0, 0, 1, 0, 1 ],\n",
    "          [ 1, 0, 1, 1, 1, 0, 1, 0, 1, 1, 0, 1, 0, 1 ],\n",
    "          [ 1, 0, 0, 0, 0, 0, 1, 0, 0, 0, 0, 1, 0, 1 ],\n",
    "          [ 1, 0, 1, 1, 1, 1, 1, 0, 1, 1, 0, 1, 1, 1 ],\n",
    "          [ 1, 0, 1, 0, 0, 0, 1, 0, 1, 0, 0, 0, 0, 1 ],\n",
    "          [ 1, 0, 1, 0, 0, 0, 1, 0, 1, 0, 0, 0, 0, 1 ],\n",
    "          [ 1, 0, 1, 0, 0, 0, 1, 0, 1, 0, 1, 0, 0, 1 ],\n",
    "          [ 1, 0, 1, 0, 1, 1, 1, 0, 1, 0, 0, 1, 0, 1 ],\n",
    "          [ 1, 0, 1, 0, 1, 1, 1, 1, 1, 1, 1, 1, 0, 1 ],\n",
    "          [ 1, 0, 0, 0, 0, 0, 0, 0, 0, 0, 0, 0, 0, 0 ],\n",
    "          [ 1, 1, 1, 1, 1, 1, 1, 1, 1, 1, 1, 1, 1, 0 ] ]\n",
    "m1=[ [ 0, 1, 1, 1, 1, 1, 1, 1, 1, 1, 1, 1, 1, 1 ],\n",
    "          [ 0, 0, 0, 0, 1, 0, 0, 0, 0, 0, 0, 0, 0, 1 ],\n",
    "          [ 1, 0, 1, 0, 1, 0, 1, 1, 1, 1, 0, 1, 0, 1 ],\n",
    "          [ 1, 0, 1, 0, 1, 0, 0, 0, 1, 0, 0, 1, 0, 1 ],\n",
    "          [ 1, 0, 1, 1, 1, 0, 1, 0, 1, 1, 0, 1, 0, 1 ],\n",
    "          [ 1, 0, 0, 0, 0, 0, 1, 0, 0, 0, 0, 1, 0, 1 ],\n",
    "          [ 1, 0, 1, 1, 1, 1, 1, 0, 1, 1, 0, 1, 1, 1 ],\n",
    "          [ 1, 0, 1, 0, 0, 0, 1, 0, 1, 0, 0, 0, 0, 1 ],\n",
    "          [ 1, 0, 1, 0, 0, 0, 1, 0, 1, 0, 0, 0, 0, 1 ],\n",
    "          [ 1, 0, 1, 0, 0, 0, 1, 0, 1, 0, 1, 0, 0, 1 ],\n",
    "          [ 1, 0, 1, 0, 1, 1, 1, 0, 1, 0, 0, 1, 0, 1 ],\n",
    "          [ 1, 0, 1, 0, 1, 1, 1, 1, 1, 1, 1, 1, 1, 1 ],\n",
    "          [ 1, 0, 0, 0, 0, 0, 0, 0, 0, 0, 0, 0, 0, 0 ],\n",
    "          [ 1, 1, 1, 1, 1, 1, 1, 1, 1, 1, 1, 1, 1, 0 ] ]\n",
    "m2= [[ 0, 1, 1, 1, 1, 1, 1, 1, 1, 1, 1, 1, 1, 1 ],\n",
    "          [ 0, 0, 0, 0, 1, 0, 0, 0, 0, 0, 0, 0, 0, 1 ],\n",
    "          [ 1, 0, 1, 0, 1, 0, 1, 1, 1, 1, 0, 1, 0, 1 ],\n",
    "          [ 1, 0, 1, 0, 1, 0, 0, 0, 1, 0, 0, 1, 0, 1 ],\n",
    "          [ 1, 0, 1, 1, 1, 0, 1, 0, 1, 1, 0, 1, 0, 1 ],\n",
    "          [ 1, 0, 0, 0, 0, 0, 1, 0, 0, 0, 0, 1, 0, 1 ],\n",
    "          [ 1, 0, 1, 1, 1, 1, 1, 0, 1, 1, 0, 1, 1, 1 ],\n",
    "          [ 1, 0, 1, 0, 0, 0, 1, 0, 1, 0, 0, 0, 0, 1 ],\n",
    "          [ 1, 0, 1, 0, 0, 0, 1, 0, 1, 0, 0, 0, 0, 1 ],\n",
    "          [ 1, 0, 1, 0, 0, 0, 1, 0, 1, 0, 1, 0, 0, 1 ],\n",
    "          [ 1, 0, 1, 0, 1, 1, 1, 0, 1, 0, 0, 1, 0, 1 ],\n",
    "          [ 1, 0, 1, 0, 1, 1, 1, 1, 1, 1, 1, 1, 0, 1 ],\n",
    "          [ 1, 0, 0, 0, 0, 0, 0, 0, 0, 0, 0, 1, 0, 0 ],\n",
    "          [ 1, 1, 1, 1, 1, 1, 1, 1, 1, 1, 1, 1, 1, 0 ] ]\n",
    "m3=[ [ 0, 1, 1, 1, 1, 1],\n",
    "          [ 0, 0, 0, 0, 0, 1 ],\n",
    "          [ 1, 0, 0, 0, 0, 1 ],\n",
    "          [ 1, 0, 0, 0, 0, 1 ],\n",
    "          [ 1, 0, 0, 0, 0, 1 ],\n",
    "          [ 1, 1, 1, 1, 0, 0 ],]\n",
    "m4=[ [ 0, 1, 1, 1, 1, 1],\n",
    "          [ 0, 0, 0, 0, 0, 1 ],\n",
    "          [ 1, 0, 1, 1, 1, 1 ],\n",
    "          [ 1, 0, 0, 0, 0, 1 ],\n",
    "          [ 1, 0, 1, 1, 0, 1 ],\n",
    "          [ 1, 1, 1, 1, 0, 0 ],]\n",
    "m5 = [[0, 1, 1, 1, 1],\n",
    "     [1, 1, 1, 1, 1],\n",
    "     [1, 1, 1, 1, 1],\n",
    "     [1, 1, 1, 1, 1],\n",
    "     [1, 1, 1, 1, 1]]\n",
    "direction=['right','down','left','up']\n",
    "dx=[1,0,-1,0]\n",
    "dy=[0,-1,0,1]\n",
    "class Player:\n",
    "    def __init__(self, x=0, y=0):\n",
    "        self.x = x\n",
    "        self.y = y\n",
    "    def move(self, dir):\n",
    "        if dir =='up':\n",
    "            self.y += 1\n",
    "        elif dir =='down':\n",
    "            self.y -= 1\n",
    "        elif dir =='left':\n",
    "            self.x -= 1\n",
    "        elif dir =='right':\n",
    "            self.x += 1\n",
    "        pass\n",
    "    def get_position(self):\n",
    "        return (self.x, self.y)\n",
    "\n",
    "class MazeGame:\n",
    "    \n",
    "    def __init__(self, map=None):\n",
    "        self.map = map\n",
    "        self.player = Player()\n",
    "        self.path = []\n",
    "\n",
    "    def play(self):\n",
    "        mx=len(self.map[0])\n",
    "        my=len(self.map)\n",
    "        cnt=0\n",
    "        prev=3\n",
    "        self.path.append(self.player.get_position())\n",
    "        while self.player.x != mx - 1 or self.player.y != my - 1:\n",
    "            cnt += 1\n",
    "            if cnt == 200:\n",
    "                break\n",
    "            for i in range(4):\n",
    "                if self.player.y + dy[(prev - 1 + i) % 4] < my and self.player.x + dx[(prev - 1 + i) % 4] < mx:\n",
    "                    if self.map[self.player.y + dy[(prev - 1 + i) % 4]][self.player.x + dx[(prev - 1 + i) % 4]] == 0:\n",
    "                        self.player.move(direction[(prev - 1 + i) % 4])\n",
    "                        prev=(prev - 1 + i) % 4\n",
    "                        break\n",
    "            self.path.append(self.player.get_position())\n",
    "\n",
    "\n",
    "    def get_map(self):\n",
    "        return self.map\n",
    "    \n",
    "    def get_path(self):\n",
    "        return self.path\n",
    "\n",
    "if __name__ == \"__main__\" :\n",
    "    game1 = MazeGame(m4)\n",
    "    game1.play()\n",
    "    print(game1.get_map())\n",
    "    print(game1.get_path())"
   ]
  }
 ],
 "metadata": {
  "kernelspec": {
   "display_name": "Python 3",
   "language": "python",
   "name": "python3"
  },
  "language_info": {
   "codemirror_mode": {
    "name": "ipython",
    "version": 3
   },
   "file_extension": ".py",
   "mimetype": "text/x-python",
   "name": "python",
   "nbconvert_exporter": "python",
   "pygments_lexer": "ipython3",
   "version": "3.7.4"
  }
 },
 "nbformat": 4,
 "nbformat_minor": 2
}
