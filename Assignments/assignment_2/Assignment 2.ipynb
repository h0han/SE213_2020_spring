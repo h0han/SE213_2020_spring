{
 "cells": [
  {
   "cell_type": "code",
   "execution_count": null,
   "metadata": {},
   "outputs": [],
   "source": [
    "#1 전화번호부\n",
    "def read_phonebook(filename = 'phonebook.txt'):\n",
    "    filename = open('phonebook.txt', 'r')\n",
    "    lines = filename.readlines()\n",
    "    phonebook = {}\n",
    "    cnt = 0\n",
    "    for info in lines:\n",
    "        name, phone = info.split(',')\n",
    "        name = name.replace(' ', '')\n",
    "        phone = phone.replace(' ', '')\n",
    "        phone = phone[0:3] + '-' + phone[3:7] + '-' + phone[7:]\n",
    "        phonebook[name] = phone\n",
    "        cnt += 1\n",
    "    print(f'{cnt} people on the list.')\n",
    "    return phonebook\n",
    "    filename.close()\n",
    "    \n",
    "def find_phonenumber(phonebook, name):\n",
    "    if name not in list(phonebook.keys()):\n",
    "        return f'{name} is not on the list.'\n",
    "    else:\n",
    "        return phonebook[name]"
   ]
  },
  {
   "cell_type": "code",
   "execution_count": 1,
   "metadata": {},
   "outputs": [
    {
     "name": "stdout",
     "output_type": "stream",
     "text": [
      "China:1402393160\n",
      "Costa Rica:5058007\n",
      "Average:31787880.86\n"
     ]
    }
   ],
   "source": [
    "#2 국가별 인구수 통계\n",
    "def get_population():\n",
    "    with open('population.csv') as file:\n",
    "        data = file.readlines()[1:]\n",
    "        arr = []\n",
    "        nation = []\n",
    "        ppl = []\n",
    "        for char in data:\n",
    "            arr += char.splitlines()\n",
    "        lst = []\n",
    "        for string in arr:\n",
    "            lst.append(string.split(','))\n",
    "        for i in range(len(lst)):\n",
    "            nation.append(lst[i][1].strip())\n",
    "            ppl.append(int(lst[i][2].strip()))\n",
    "        most = max(ppl)\n",
    "        if sum(ppl) % len(ppl) == 0:\n",
    "            ave = int(sum(ppl)/len(ppl))\n",
    "        else:\n",
    "            ave = round(sum(ppl)/len(ppl), 2)\n",
    "        median = sorted(ppl)[int((len(ppl)-1)/2)]\n",
    "        print(nation[ppl.index(most)], ':', most, sep = '')\n",
    "        print(nation[ppl.index(median)],':', median, sep = '')\n",
    "        print('Average', ':', ave, sep = '')\n",
    "get_population()\n",
    "# 114.71.103.80 or 10.180.2.80/files/population.csv 파일 확인"
   ]
  },
  {
   "cell_type": "code",
   "execution_count": 2,
   "metadata": {},
   "outputs": [
    {
     "name": "stdout",
     "output_type": "stream",
     "text": [
      "China:1402393160\n",
      "Costa Rica:5058007\n",
      "Average:31787880.86\n"
     ]
    }
   ],
   "source": [
    "#2 국가별 인구수 통계\n",
    "def get_population():\n",
    "    with open('population1.csv') as file:\n",
    "        data = file.readlines()[1:]\n",
    "        arr = []\n",
    "        nation = []\n",
    "        ppl = []\n",
    "        for char in data:\n",
    "            arr += char.splitlines()\n",
    "        lst = []\n",
    "        for string in arr:\n",
    "            lst.append(string.split(','))\n",
    "        for i in range(len(lst)):\n",
    "            nation.append(lst[i][1].strip())\n",
    "            ppl.append(int(lst[i][2].strip()))\n",
    "        most = max(ppl)\n",
    "        if sum(ppl) % len(ppl) == 0:\n",
    "            ave = int(sum(ppl)/len(ppl))\n",
    "        else:\n",
    "            ave = round(sum(ppl)/len(ppl), 2)\n",
    "        median = sorted(ppl)[int((len(ppl)-1)/2)]\n",
    "        print(nation[ppl.index(most)], ':', most, sep = '')\n",
    "        print(nation[ppl.index(median)],':', median, sep = '')\n",
    "        print('Average', ':', ave, sep = '')\n",
    "get_population()\n",
    "# 114.71.103.80 or 10.180.2.80/files/population.csv 파일 확인"
   ]
  },
  {
   "cell_type": "code",
   "execution_count": 3,
   "metadata": {},
   "outputs": [
    {
     "name": "stdout",
     "output_type": "stream",
     "text": [
      "Germany:83149300\n",
      "France:67075000\n",
      "Average:67334960\n"
     ]
    }
   ],
   "source": [
    "#2 국가별 인구수 통계\n",
    "def get_population():\n",
    "    with open('population2.csv') as file:\n",
    "        data = file.readlines()[1:]\n",
    "        arr = []\n",
    "        nation = []\n",
    "        ppl = []\n",
    "        for char in data:\n",
    "            arr += char.splitlines()\n",
    "        lst = []\n",
    "        for string in arr:\n",
    "            lst.append(string.split(','))\n",
    "        for i in range(len(lst)):\n",
    "            nation.append(lst[i][1].strip())\n",
    "            ppl.append(int(lst[i][2].strip()))\n",
    "        most = max(ppl)\n",
    "        if sum(ppl) % len(ppl) == 0:\n",
    "            ave = int(sum(ppl)/len(ppl))\n",
    "        else:\n",
    "            ave = round(sum(ppl)/len(ppl), 2)\n",
    "        median = sorted(ppl)[int((len(ppl)-1)/2)]\n",
    "        print(nation[ppl.index(most)], ':', most, sep = '')\n",
    "        print(nation[ppl.index(median)],':', median, sep = '')\n",
    "        print('Average', ':', ave, sep = '')\n",
    "get_population()\n",
    "# 114.71.103.80 or 10.180.2.80/files/population.csv 파일 확인"
   ]
  },
  {
   "cell_type": "code",
   "execution_count": 4,
   "metadata": {},
   "outputs": [],
   "source": [
    "#3 카이사르 암호\n",
    "def find_key(plaintext, ciphertext):\n",
    "    if type(plaintext) == str:\n",
    "        alphabet = ['a', 'b', 'c', 'd', 'e',\n",
    "               'f', 'g', 'h', 'i', 'j',\n",
    "               'k', 'l', 'm', 'n', 'o',\n",
    "               'p', 'q', 'r', 's', 't',\n",
    "               'u', 'v', 'w', 'x', 'y', 'z']\n",
    "        char_list = []\n",
    "        for char in plaintext:\n",
    "            if char in alphabet:\n",
    "                plaintext.index(char)\n",
    "                char_list.append(char)\n",
    "                break\n",
    "        char_list.append(ciphertext[plaintext.index(char)])\n",
    "        key = int(alphabet.index(char_list[1]) - alphabet.index(char_list[0]))\n",
    "    else:\n",
    "        return 'Check your text.'\n",
    "    return key\n",
    "\n",
    "def decrypt(cipertext, key):\n",
    "    alphabet = ['a', 'b', 'c', 'd', 'e',\n",
    "               'f', 'g', 'h', 'i', 'j',\n",
    "               'k', 'l', 'm', 'n', 'o',\n",
    "               'p', 'q', 'r', 's', 't',\n",
    "               'u', 'v', 'w', 'x', 'y', 'z']\n",
    "    if type(cipertext) == str:\n",
    "        right_text = ''\n",
    "        for char in cipertext:\n",
    "            if char in alphabet:\n",
    "                index = (alphabet.index(char) - key) % len(alphabet)\n",
    "                char = alphabet[index]\n",
    "                right_text += char\n",
    "            else:\n",
    "                right_text += char\n",
    "    else:\n",
    "        return 'Check your text.'\n",
    "    return right_text"
   ]
  },
  {
   "cell_type": "code",
   "execution_count": 2,
   "metadata": {},
   "outputs": [
    {
     "name": "stdout",
     "output_type": "stream",
     "text": [
      "3\n",
      "0\n",
      "-23\n",
      "24\n",
      "-1\n",
      "\n",
      "abc\n",
      "xyza\n",
      "a b c,\n",
      " .!\n"
     ]
    }
   ],
   "source": [
    "print(find_key('hello, world', 'khoor, zruog'))\n",
    "print(find_key('hello, world', 'hello, world'))\n",
    "print(find_key('xyzabc', 'abcdef'))\n",
    "print(find_key('abce', 'yzac'))\n",
    "print(find_key('zab', 'yza'))\n",
    "print(decrypt('', 1))\n",
    "print(decrypt('bcd', 1))\n",
    "print(decrypt('bcde', 4))\n",
    "print(decrypt('b c d,', 1))\n",
    "print(decrypt(' .!', 1))"
   ]
  },
  {
   "cell_type": "code",
   "execution_count": null,
   "metadata": {},
   "outputs": [],
   "source": []
  },
  {
   "cell_type": "code",
   "execution_count": 5,
   "metadata": {},
   "outputs": [
    {
     "name": "stdout",
     "output_type": "stream",
     "text": [
      "key : -23\n",
      "first, solve the problem. then, write the code. - john johnson\n",
      "without requirements or design, programming is the art of adding bugs to an empty text file. - louis srygley\n",
      "computers are good at following instructions, but not at reading your mind. - donald knuth\n",
      "always code as if the guy who ends up maintaining your code will be a violent psychopath who knows where you live. - john woods\n"
     ]
    }
   ],
   "source": [
    "plain_text = 'z'\n",
    "cipher_text = 'c'\n",
    "c1 = 'iluvw, vroyh wkh sureohp. wkhq, zulwh wkh frgh. - mrkq mrkqvrq'\n",
    "c2 = 'zlwkrxw uhtxluhphqwv ru ghvljq, surjudpplqj lv wkh duw ri dgglqj exjv wr dq hpswb whaw iloh. - orxlv vubjohb'\n",
    "c3 = 'frpsxwhuv duh jrrg dw iroorzlqj lqvwuxfwlrqv, exw qrw dw uhdglqj brxu plqg. - grqdog nqxwk'\n",
    "c4 = 'dozdbv frgh dv li wkh jxb zkr hqgv xs pdlqwdlqlqj brxu frgh zloo eh d ylrohqw svbfkrsdwk zkr nqrzv zkhuh brx olyh. - mrkq zrrgv'\n",
    "\n",
    "key = find_key(plain_text, cipher_text)\n",
    "print(f'key : {key}')\n",
    "\n",
    "print(decrypt(c1, key))\n",
    "print(decrypt(c2, key))\n",
    "print(decrypt(c3, key))\n",
    "print(decrypt(c4, key))"
   ]
  },
  {
   "cell_type": "code",
   "execution_count": 6,
   "metadata": {},
   "outputs": [
    {
     "name": "stdout",
     "output_type": "stream",
     "text": [
      "1\n"
     ]
    }
   ],
   "source": [
    "alphabet = ['a', 'b', 'c', 'd', 'e',\n",
    "               'f', 'g', 'h', 'i', 'j',\n",
    "               'k', 'l', 'm', 'n', 'o',\n",
    "               'p', 'q', 'r', 's', 't',\n",
    "               'u', 'v', 'w', 'x', 'y', 'z']\n",
    "for key in range(0, 27):\n",
    "    \n",
    "c1 = 'abcdefghizklmnopqrstuvwxyz'"
   ]
  },
  {
   "cell_type": "code",
   "execution_count": 13,
   "metadata": {},
   "outputs": [
    {
     "name": "stdout",
     "output_type": "stream",
     "text": [
      "010-4150-5967\n"
     ]
    }
   ],
   "source": [
    "phone = '01041505967'\n",
    "phone = phone[0:3] + '-' + phone[3:7] + '-' + phone[7:]\n",
    "print(phone)"
   ]
  },
  {
   "cell_type": "code",
   "execution_count": null,
   "metadata": {},
   "outputs": [],
   "source": []
  }
 ],
 "metadata": {
  "kernelspec": {
   "display_name": "Python 3",
   "language": "python",
   "name": "python3"
  },
  "language_info": {
   "codemirror_mode": {
    "name": "ipython",
    "version": 3
   },
   "file_extension": ".py",
   "mimetype": "text/x-python",
   "name": "python",
   "nbconvert_exporter": "python",
   "pygments_lexer": "ipython3",
   "version": "3.8.2"
  }
 },
 "nbformat": 4,
 "nbformat_minor": 2
}
